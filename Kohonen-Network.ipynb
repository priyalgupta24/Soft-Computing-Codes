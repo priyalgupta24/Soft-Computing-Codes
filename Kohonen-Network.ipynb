{
  "nbformat": 4,
  "nbformat_minor": 0,
  "metadata": {
    "colab": {
      "name": "IHM2017004_SOC2020_14.ipynb",
      "provenance": []
    },
    "kernelspec": {
      "name": "python3",
      "display_name": "Python 3"
    }
  },
  "cells": [
    {
      "cell_type": "code",
      "metadata": {
        "id": "betW6OHZoFLt",
        "colab_type": "code",
        "colab": {}
      },
      "source": [
        "import numpy as np\n",
        "import matplotlib.pyplot as plt\n",
        "import random as rand"
      ],
      "execution_count": 0,
      "outputs": []
    },
    {
      "cell_type": "code",
      "metadata": {
        "id": "0V-_V6IAqVf-",
        "colab_type": "code",
        "colab": {}
      },
      "source": [
        "weightMatrix=np.random.uniform(-1,1,size=(10,10,2))"
      ],
      "execution_count": 0,
      "outputs": []
    },
    {
      "cell_type": "code",
      "metadata": {
        "id": "KyTNy7JcqorM",
        "colab_type": "code",
        "outputId": "b4271d7f-ce45-472c-c8df-95ca78242231",
        "colab": {
          "base_uri": "https://localhost:8080/",
          "height": 1000
        }
      },
      "source": [
        "weightMatrix"
      ],
      "execution_count": 3,
      "outputs": [
        {
          "output_type": "execute_result",
          "data": {
            "text/plain": [
              "array([[[ 0.16934336,  0.31647107],\n",
              "        [-0.87591432,  0.15241497],\n",
              "        [-0.67178723, -0.95770062],\n",
              "        [ 0.84530577,  0.15491263],\n",
              "        [ 0.06105721, -0.16142145],\n",
              "        [ 0.26378004,  0.93604518],\n",
              "        [-0.15165528,  0.49080408],\n",
              "        [-0.62626048,  0.37489545],\n",
              "        [ 0.89812649, -0.8170522 ],\n",
              "        [ 0.28383667,  0.71770265]],\n",
              "\n",
              "       [[-0.35283579,  0.50319984],\n",
              "        [-0.04157328,  0.78803492],\n",
              "        [ 0.92974293, -0.39026449],\n",
              "        [-0.92233342,  0.03430164],\n",
              "        [-0.95269595, -0.7404143 ],\n",
              "        [-0.22512932, -0.26633284],\n",
              "        [ 0.77617859,  0.3522865 ],\n",
              "        [ 0.89092292,  0.5266239 ],\n",
              "        [ 0.52603352, -0.2291589 ],\n",
              "        [ 0.37798957, -0.27516315]],\n",
              "\n",
              "       [[-0.10914742, -0.64348149],\n",
              "        [-0.41758521, -0.65961031],\n",
              "        [-0.88320143,  0.8528121 ],\n",
              "        [-0.86481664, -0.91215418],\n",
              "        [ 0.53155771, -0.28235228],\n",
              "        [-0.2065502 , -0.12292192],\n",
              "        [-0.6645848 , -0.00994988],\n",
              "        [-0.76499578, -0.95332216],\n",
              "        [ 0.74089394,  0.60917947],\n",
              "        [-0.10777365,  0.13965222]],\n",
              "\n",
              "       [[-0.87978255, -0.20257182],\n",
              "        [-0.13449909, -0.18420151],\n",
              "        [-0.92743274, -0.62896257],\n",
              "        [ 0.87782303,  0.36981672],\n",
              "        [-0.383618  ,  0.88136384],\n",
              "        [ 0.10777638,  0.93336654],\n",
              "        [-0.06725436,  0.20983749],\n",
              "        [-0.36478341, -0.05968492],\n",
              "        [-0.46705689,  0.27482735],\n",
              "        [-0.82961072, -0.92987484]],\n",
              "\n",
              "       [[ 0.00499874,  0.10345591],\n",
              "        [ 0.68181871,  0.54683476],\n",
              "        [-0.29203821, -0.45963249],\n",
              "        [-0.18518957, -0.01768757],\n",
              "        [-0.93565326, -0.1737217 ],\n",
              "        [-0.21548673,  0.69490844],\n",
              "        [ 0.56159272,  0.81565444],\n",
              "        [-0.37476481,  0.7019757 ],\n",
              "        [-0.09667451, -0.3177502 ],\n",
              "        [-0.10130153,  0.80258745]],\n",
              "\n",
              "       [[ 0.96495406, -0.58170057],\n",
              "        [ 0.77027084,  0.72532161],\n",
              "        [-0.19621893,  0.69883443],\n",
              "        [-0.09555411,  0.87148613],\n",
              "        [-0.99076247, -0.20300213],\n",
              "        [-0.82351667, -0.94106049],\n",
              "        [ 0.49603169, -0.28607345],\n",
              "        [ 0.10167058,  0.3027271 ],\n",
              "        [ 0.14304657,  0.96439096],\n",
              "        [ 0.87331548,  0.51051413]],\n",
              "\n",
              "       [[-0.32997115, -0.69405986],\n",
              "        [-0.86963768,  0.08565568],\n",
              "        [-0.69335094,  0.53523725],\n",
              "        [-0.1418249 ,  0.59178654],\n",
              "        [ 0.69449993,  0.20134226],\n",
              "        [ 0.76568856,  0.58045237],\n",
              "        [-0.11609052, -0.2212281 ],\n",
              "        [ 0.1924738 , -0.36817691],\n",
              "        [ 0.71930252, -0.11260117],\n",
              "        [ 0.97405344,  0.09506814]],\n",
              "\n",
              "       [[-0.08082411, -0.54152011],\n",
              "        [-0.68122422,  0.7191634 ],\n",
              "        [-0.64803464, -0.3226625 ],\n",
              "        [-0.49371207,  0.12686846],\n",
              "        [ 0.07878457,  0.51790387],\n",
              "        [-0.62762956,  0.57627374],\n",
              "        [ 0.26710442, -0.33232824],\n",
              "        [ 0.09179473,  0.84275663],\n",
              "        [-0.15709476,  0.06254712],\n",
              "        [-0.61179557,  0.85497728]],\n",
              "\n",
              "       [[ 0.99566994,  0.37651582],\n",
              "        [-0.77255301, -0.28630206],\n",
              "        [-0.31615331,  0.47392153],\n",
              "        [ 0.15587092, -0.84918128],\n",
              "        [ 0.4044851 ,  0.27779536],\n",
              "        [-0.79745779,  0.13869489],\n",
              "        [ 0.14623674,  0.69038709],\n",
              "        [ 0.28191053, -0.38931514],\n",
              "        [-0.2046055 ,  0.73246678],\n",
              "        [-0.93808999,  0.83312206]],\n",
              "\n",
              "       [[-0.06278713,  0.15375297],\n",
              "        [-0.15106207, -0.3767908 ],\n",
              "        [ 0.93555945, -0.94791152],\n",
              "        [-0.360189  ,  0.60338904],\n",
              "        [-0.87930289,  0.82569644],\n",
              "        [-0.29144349,  0.27716515],\n",
              "        [ 0.10620681,  0.23230454],\n",
              "        [-0.7871768 ,  0.61042473],\n",
              "        [ 0.12665435,  0.65881984],\n",
              "        [ 0.30525646,  0.52016192]]])"
            ]
          },
          "metadata": {
            "tags": []
          },
          "execution_count": 3
        }
      ]
    },
    {
      "cell_type": "code",
      "metadata": {
        "id": "IKnYG_ec1Oga",
        "colab_type": "code",
        "outputId": "b794f0e9-11d6-4b63-ee78-c34d94472697",
        "colab": {
          "base_uri": "https://localhost:8080/",
          "height": 283
        }
      },
      "source": [
        "plt.scatter(weightMatrix[:,:,0],weightMatrix[:,:,1])"
      ],
      "execution_count": 4,
      "outputs": [
        {
          "output_type": "execute_result",
          "data": {
            "text/plain": [
              "<matplotlib.collections.PathCollection at 0x7f94a5e28e10>"
            ]
          },
          "metadata": {
            "tags": []
          },
          "execution_count": 4
        },
        {
          "output_type": "display_data",
          "data": {
            "image/png": "[encoded data removed]",
            "text/plain": [
              "<Figure size 432x288 with 1 Axes>"
            ]
          },
          "metadata": {
            "tags": [],
            "needs_background": "light"
          }
        }
      ]
    },
    {
      "cell_type": "code",
      "metadata": {
        "id": "2cFrvQAQqqwZ",
        "colab_type": "code",
        "colab": {}
      },
      "source": [
        "inputVector=np.random.uniform(-1,1,size=(1500,2))"
      ],
      "execution_count": 0,
      "outputs": []
    },
    {
      "cell_type": "code",
      "metadata": {
        "id": "NNDV52yzs9CA",
        "colab_type": "code",
        "outputId": "22f420f7-9baf-47d9-a34e-a51ef798bee6",
        "colab": {
          "base_uri": "https://localhost:8080/",
          "height": 145
        }
      },
      "source": [
        "inputVector"
      ],
      "execution_count": 6,
      "outputs": [
        {
          "output_type": "execute_result",
          "data": {
            "text/plain": [
              "array([[-0.00793645,  0.89951595],\n",
              "       [ 0.09933827, -0.93040743],\n",
              "       [ 0.18852426,  0.25019316],\n",
              "       ...,\n",
              "       [ 0.52498135,  0.99959423],\n",
              "       [ 0.47972166,  0.88314875],\n",
              "       [ 0.33553197, -0.99872916]])"
            ]
          },
          "metadata": {
            "tags": []
          },
          "execution_count": 6
        }
      ]
    },
    {
      "cell_type": "code",
      "metadata": {
        "id": "NAzTl-6ByyMb",
        "colab_type": "code",
        "colab": {}
      },
      "source": [
        "wt=np.zeros((10,10,2))\n",
        "for i in range(10):\n",
        "  for j in range(10):\n",
        "    for k in range(2):\n",
        "      wt[i][j][k]=weightMatrix[i][j][k]"
      ],
      "execution_count": 0,
      "outputs": []
    },
    {
      "cell_type": "code",
      "metadata": {
        "id": "4HDrYgeHw2qi",
        "colab_type": "code",
        "colab": {}
      },
      "source": [
        "alpha=0.1\n",
        "radius=10"
      ],
      "execution_count": 0,
      "outputs": []
    },
    {
      "cell_type": "code",
      "metadata": {
        "id": "RBRDrFuIx3V7",
        "colab_type": "code",
        "colab": {}
      },
      "source": [
        "def fun(wt,inputVector,alpha,radius):\n",
        "\n",
        "  time_constant=100000/np.log(radius)\n",
        "  for iterations in range(100000):\n",
        "    dist=[]\n",
        "    r=radius*np.exp((-1*iterations)/time_constant)\n",
        "    if(radius<0.5):\n",
        "      break\n",
        "    a=alpha*np.exp((-1*iterations)/time_constant)\n",
        "    index=rand.randrange(0,1500)\n",
        "    for i in range(wt.shape[0]):\n",
        "      for j in range(wt.shape[1]):\n",
        "        dist.append((np.sqrt((wt[i][j][1]-inputVector[index][1])**2 + (wt[i][j][0]-inputVector[index][0])**2),i,j))\n",
        "    dist.sort()\n",
        "    winX=dist[0][1]\n",
        "    winY=dist[0][2]\n",
        "    for i in range(10):\n",
        "      for j in range(10):\n",
        "        dis=np.sqrt((winX-i)**2 + (winY-j)**2)\n",
        "        influence=np.exp((-1*(dis**2))/(2*(r**2)))\n",
        "        wt[i][j][1]+=a*influence*(inputVector[index][1]-wt[i][j][1])\n",
        "        wt[i][j][0]+=a*influence*(inputVector[index][0]-wt[i][j][0])\n",
        "  return wt"
      ],
      "execution_count": 0,
      "outputs": []
    },
    {
      "cell_type": "code",
      "metadata": {
        "id": "sdX1htqPzxHT",
        "colab_type": "code",
        "colab": {}
      },
      "source": [
        "wt=fun(wt,inputVector,alpha,radius)"
      ],
      "execution_count": 0,
      "outputs": []
    },
    {
      "cell_type": "code",
      "metadata": {
        "id": "tfrGTFHMTcnY",
        "colab_type": "code",
        "outputId": "c4116e35-c745-4f13-fbc2-94b576d5c383",
        "colab": {
          "base_uri": "https://localhost:8080/",
          "height": 545
        }
      },
      "source": [
        "plt.title('Initial Network')\n",
        "plt.scatter(weightMatrix[:,:,0],weightMatrix[:,:,1])\n",
        "plt.show()\n",
        "plt.title('Network Formed After Optimizing Weights')\n",
        "plt.scatter(wt[:,:,0],wt[:,:,1])\n",
        "plt.show()"
      ],
      "execution_count": 11,
      "outputs": [
        {
          "output_type": "display_data",
          "data": {
            "image/png": "[encoded data removed]",
            "text/plain": [
              "<Figure size 432x288 with 1 Axes>"
            ]
          },
          "metadata": {
            "tags": [],
            "needs_background": "light"
          }
        },
        {
          "output_type": "display_data",
          "data": {
            "image/png": "[encoded data removed]",
            "text/plain": [
              "<Figure size 432x288 with 1 Axes>"
            ]
          },
          "metadata": {
            "tags": [],
            "needs_background": "light"
          }
        }
      ]
    },
    {
      "cell_type": "code",
      "metadata": {
        "id": "e_yLV8RpfVGS",
        "colab_type": "code",
        "colab": {}
      },
      "source": [
        "testInput = np.array([[0.1,0.8],[0.5,-0.2],[-0.8,-0.9],[-0.06,0.9]])"
      ],
      "execution_count": 0,
      "outputs": []
    },
    {
      "cell_type": "code",
      "metadata": {
        "id": "mcErcEXvND5z",
        "colab_type": "code",
        "outputId": "71f415fc-6574-4a32-96b0-c5fe9fe5a650",
        "colab": {
          "base_uri": "https://localhost:8080/",
          "height": 35
        }
      },
      "source": [
        "testInput.shape"
      ],
      "execution_count": 13,
      "outputs": [
        {
          "output_type": "execute_result",
          "data": {
            "text/plain": [
              "(4, 2)"
            ]
          },
          "metadata": {
            "tags": []
          },
          "execution_count": 13
        }
      ]
    },
    {
      "cell_type": "code",
      "metadata": {
        "id": "ZdXCzJzHNdVW",
        "colab_type": "code",
        "colab": {}
      },
      "source": [
        "def test(testInput):\n",
        "  finalDist=[]\n",
        "  for index in range(testInput.shape[0]):\n",
        "    dist=[]\n",
        "    for i in range(wt.shape[0]):\n",
        "      for j in range(wt.shape[1]):\n",
        "          dist.append((np.sqrt((wt[i][j][1]-testInput[index][1])**2 + (wt[i][j][0]-testInput[index][0])**2),i,j))\n",
        "    dist.sort()\n",
        "    finalDist.append((dist[0][0],dist[0][1],dist[0][2]))\n",
        "  \n",
        "  for i in range(len(finalDist)):\n",
        "    print('For input (',testInput[i][0],',',testInput[i][1],'), the output is neuron at position (',finalDist[i][1],',',finalDist[i][2],'). Minimum Euclidean distance =',finalDist[i][0])\n"
      ],
      "execution_count": 0,
      "outputs": []
    },
    {
      "cell_type": "code",
      "metadata": {
        "id": "uxh7SKnqSMCd",
        "colab_type": "code",
        "outputId": "e849fe8d-b093-4d6f-9b9e-633ff96186f3",
        "colab": {
          "base_uri": "https://localhost:8080/",
          "height": 110
        }
      },
      "source": [
        "test(testInput)"
      ],
      "execution_count": 15,
      "outputs": [
        {
          "output_type": "stream",
          "text": [
            "For input ( 0.1 , 0.8 ), the output is neuron at position ( 4 , 0 ). Minimum Euclidean distance = 0.023499768576920783\n",
            "For input ( 0.5 , -0.2 ), the output is neuron at position ( 2 , 6 ). Minimum Euclidean distance = 0.07682668126107292\n",
            "For input ( -0.8 , -0.9 ), the output is neuron at position ( 9 , 9 ). Minimum Euclidean distance = 0.18307991836282358\n",
            "For input ( -0.06 , 0.9 ), the output is neuron at position ( 5 , 0 ). Minimum Euclidean distance = 0.13017166057207283\n"
          ],
          "name": "stdout"
        }
      ]
    },
    {
      "cell_type": "code",
      "metadata": {
        "id": "kL-dqR_mSX5r",
        "colab_type": "code",
        "colab": {}
      },
      "source": [
        ""
      ],
      "execution_count": 0,
      "outputs": []
    }
  ]
}