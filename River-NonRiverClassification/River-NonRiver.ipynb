{
  "nbformat": 4,
  "nbformat_minor": 0,
  "metadata": {
    "colab": {
      "name": "finalCopy of river/Non-river_PCA.ipynb",
      "provenance": []
    },
    "kernelspec": {
      "name": "python3",
      "display_name": "Python 3"
    }
  },
  "cells": [
    {
      "cell_type": "code",
      "metadata": {
        "id": "hgkg1RzaFsuN",
        "colab_type": "code",
        "colab": {}
      },
      "source": [
        "from matplotlib import pyplot as plt\n",
        "from matplotlib.image import imread\n",
        "import numpy as np\n",
        "import random"
      ],
      "execution_count": 0,
      "outputs": []
    },
    {
      "cell_type": "code",
      "metadata": {
        "id": "RkdqfprKDQY8",
        "colab_type": "code",
        "outputId": "0165a756-b50f-4ed3-fb53-a6f659d5780d",
        "colab": {
          "base_uri": "https://localhost:8080/",
          "height": 1000
        }
      },
      "source": [
        "test_data= np.ndarray(shape=(512,512,4), dtype=np.integer)\n",
        "for i in range(4):\n",
        "  img = plt.imread(str(i+1)+'.gif')\n",
        "  test_data[:,:,i] = np.array(img[:,:,0])\n",
        "  print(img)"
      ],
      "execution_count": 4,
      "outputs": [
        {
          "output_type": "stream",
          "text": [
            "[[[ 41  41  41 255]\n",
            "  [ 41  41  41 255]\n",
            "  [ 38  38  38 255]\n",
            "  ...\n",
            "  [ 41  41  41 255]\n",
            "  [ 41  41  41 255]\n",
            "  [ 41  41  41 255]]\n",
            "\n",
            " [[ 41  41  41 255]\n",
            "  [ 42  42  42 255]\n",
            "  [ 41  41  41 255]\n",
            "  ...\n",
            "  [ 44  44  44 255]\n",
            "  [ 41  41  41 255]\n",
            "  [ 41  41  41 255]]\n",
            "\n",
            " [[ 41  41  41 255]\n",
            "  [ 43  43  43 255]\n",
            "  [ 39  39  39 255]\n",
            "  ...\n",
            "  [ 42  42  42 255]\n",
            "  [ 40  40  40 255]\n",
            "  [ 40  40  40 255]]\n",
            "\n",
            " ...\n",
            "\n",
            " [[ 39  39  39 255]\n",
            "  [ 38  38  38 255]\n",
            "  [ 38  38  38 255]\n",
            "  ...\n",
            "  [ 38  38  38 255]\n",
            "  [ 39  39  39 255]\n",
            "  [ 37  37  37 255]]\n",
            "\n",
            " [[ 40  40  40 255]\n",
            "  [ 39  39  39 255]\n",
            "  [ 40  40  40 255]\n",
            "  ...\n",
            "  [ 38  38  38 255]\n",
            "  [ 39  39  39 255]\n",
            "  [ 37  37  37 255]]\n",
            "\n",
            " [[ 41  41  41 255]\n",
            "  [ 42  42  42 255]\n",
            "  [ 42  42  42 255]\n",
            "  ...\n",
            "  [ 38  38  38 255]\n",
            "  [ 38  38  38 255]\n",
            "  [ 37  37  37 255]]]\n",
            "[[[ 27  27  27 255]\n",
            "  [ 27  27  27 255]\n",
            "  [ 25  25  25 255]\n",
            "  ...\n",
            "  [ 27  27  27 255]\n",
            "  [ 28  28  28 255]\n",
            "  [ 28  28  28 255]]\n",
            "\n",
            " [[ 26  26  26 255]\n",
            "  [ 27  27  27 255]\n",
            "  [ 27  27  27 255]\n",
            "  ...\n",
            "  [ 30  30  30 255]\n",
            "  [ 28  28  28 255]\n",
            "  [ 28  28  28 255]]\n",
            "\n",
            " [[ 26  26  26 255]\n",
            "  [ 27  27  27 255]\n",
            "  [ 26  26  26 255]\n",
            "  ...\n",
            "  [ 28  28  28 255]\n",
            "  [ 27  27  27 255]\n",
            "  [ 28  28  28 255]]\n",
            "\n",
            " ...\n",
            "\n",
            " [[ 25  25  25 255]\n",
            "  [ 24  24  24 255]\n",
            "  [ 23  23  23 255]\n",
            "  ...\n",
            "  [ 22  22  22 255]\n",
            "  [ 23  23  23 255]\n",
            "  [ 23  23  23 255]]\n",
            "\n",
            " [[ 25  25  25 255]\n",
            "  [ 24  24  24 255]\n",
            "  [ 25  25  25 255]\n",
            "  ...\n",
            "  [ 23  23  23 255]\n",
            "  [ 23  23  23 255]\n",
            "  [ 22  22  22 255]]\n",
            "\n",
            " [[ 26  26  26 255]\n",
            "  [ 27  27  27 255]\n",
            "  [ 28  28  28 255]\n",
            "  ...\n",
            "  [ 22  22  22 255]\n",
            "  [ 23  23  23 255]\n",
            "  [ 22  22  22 255]]]\n",
            "[[[ 26  26  26 255]\n",
            "  [ 29  29  29 255]\n",
            "  [ 26  26  26 255]\n",
            "  ...\n",
            "  [ 27  27  27 255]\n",
            "  [ 27  27  27 255]\n",
            "  [ 28  28  28 255]]\n",
            "\n",
            " [[ 26  26  26 255]\n",
            "  [ 27  27  27 255]\n",
            "  [ 28  28  28 255]\n",
            "  ...\n",
            "  [ 30  30  30 255]\n",
            "  [ 32  32  32 255]\n",
            "  [ 28  28  28 255]]\n",
            "\n",
            " [[ 26  26  26 255]\n",
            "  [ 26  26  26 255]\n",
            "  [ 27  27  27 255]\n",
            "  ...\n",
            "  [ 31  31  31 255]\n",
            "  [ 32  32  32 255]\n",
            "  [ 28  28  28 255]]\n",
            "\n",
            " ...\n",
            "\n",
            " [[ 23  23  23 255]\n",
            "  [ 23  23  23 255]\n",
            "  [ 21  21  21 255]\n",
            "  ...\n",
            "  [ 20  20  20 255]\n",
            "  [ 19  19  19 255]\n",
            "  [ 21  21  21 255]]\n",
            "\n",
            " [[ 24  24  24 255]\n",
            "  [ 25  25  25 255]\n",
            "  [ 24  24  24 255]\n",
            "  ...\n",
            "  [ 20  20  20 255]\n",
            "  [ 19  19  19 255]\n",
            "  [ 21  21  21 255]]\n",
            "\n",
            " [[ 25  25  25 255]\n",
            "  [ 29  29  29 255]\n",
            "  [ 29  29  29 255]\n",
            "  ...\n",
            "  [ 20  20  20 255]\n",
            "  [ 19  19  19 255]\n",
            "  [ 20  20  20 255]]]\n",
            "[[[ 42  42  42 255]\n",
            "  [ 41  41  41 255]\n",
            "  [ 40  40  40 255]\n",
            "  ...\n",
            "  [ 32  32  32 255]\n",
            "  [ 33  33  33 255]\n",
            "  [ 33  33  33 255]]\n",
            "\n",
            " [[ 43  43  43 255]\n",
            "  [ 43  43  43 255]\n",
            "  [ 42  42  42 255]\n",
            "  ...\n",
            "  [ 33  33  33 255]\n",
            "  [ 33  33  33 255]\n",
            "  [ 33  33  33 255]]\n",
            "\n",
            " [[ 43  43  43 255]\n",
            "  [ 43  43  43 255]\n",
            "  [ 41  41  41 255]\n",
            "  ...\n",
            "  [ 35  35  35 255]\n",
            "  [ 33  33  33 255]\n",
            "  [ 33  33  33 255]]\n",
            "\n",
            " ...\n",
            "\n",
            " [[ 33  33  33 255]\n",
            "  [ 31  31  31 255]\n",
            "  [ 33  33  33 255]\n",
            "  ...\n",
            "  [ 22  22  22 255]\n",
            "  [ 27  27  27 255]\n",
            "  [ 24  24  24 255]]\n",
            "\n",
            " [[ 37  37  37 255]\n",
            "  [ 33  33  33 255]\n",
            "  [ 35  35  35 255]\n",
            "  ...\n",
            "  [ 23  23  23 255]\n",
            "  [ 31  31  31 255]\n",
            "  [ 22  22  22 255]]\n",
            "\n",
            " [[ 39  39  39 255]\n",
            "  [ 38  38  38 255]\n",
            "  [ 38  38  38 255]\n",
            "  ...\n",
            "  [ 25  25  25 255]\n",
            "  [ 31  31  31 255]\n",
            "  [ 22  22  22 255]]]\n"
          ],
          "name": "stdout"
        }
      ]
    },
    {
      "cell_type": "code",
      "metadata": {
        "id": "DHX9EtqQDdT5",
        "colab_type": "code",
        "outputId": "0895b47d-1e19-48c3-bc32-146a58146074",
        "colab": {
          "base_uri": "https://localhost:8080/",
          "height": 908
        }
      },
      "source": [
        "test_data"
      ],
      "execution_count": 5,
      "outputs": [
        {
          "output_type": "execute_result",
          "data": {
            "text/plain": [
              "array([[[41, 27, 26, 42],\n",
              "        [41, 27, 29, 41],\n",
              "        [38, 25, 26, 40],\n",
              "        ...,\n",
              "        [41, 27, 27, 32],\n",
              "        [41, 28, 27, 33],\n",
              "        [41, 28, 28, 33]],\n",
              "\n",
              "       [[41, 26, 26, 43],\n",
              "        [42, 27, 27, 43],\n",
              "        [41, 27, 28, 42],\n",
              "        ...,\n",
              "        [44, 30, 30, 33],\n",
              "        [41, 28, 32, 33],\n",
              "        [41, 28, 28, 33]],\n",
              "\n",
              "       [[41, 26, 26, 43],\n",
              "        [43, 27, 26, 43],\n",
              "        [39, 26, 27, 41],\n",
              "        ...,\n",
              "        [42, 28, 31, 35],\n",
              "        [40, 27, 32, 33],\n",
              "        [40, 28, 28, 33]],\n",
              "\n",
              "       ...,\n",
              "\n",
              "       [[39, 25, 23, 33],\n",
              "        [38, 24, 23, 31],\n",
              "        [38, 23, 21, 33],\n",
              "        ...,\n",
              "        [38, 22, 20, 22],\n",
              "        [39, 23, 19, 27],\n",
              "        [37, 23, 21, 24]],\n",
              "\n",
              "       [[40, 25, 24, 37],\n",
              "        [39, 24, 25, 33],\n",
              "        [40, 25, 24, 35],\n",
              "        ...,\n",
              "        [38, 23, 20, 23],\n",
              "        [39, 23, 19, 31],\n",
              "        [37, 22, 21, 22]],\n",
              "\n",
              "       [[41, 26, 25, 39],\n",
              "        [42, 27, 29, 38],\n",
              "        [42, 28, 29, 38],\n",
              "        ...,\n",
              "        [38, 22, 20, 25],\n",
              "        [38, 23, 19, 31],\n",
              "        [37, 22, 20, 22]]])"
            ]
          },
          "metadata": {
            "tags": []
          },
          "execution_count": 5
        }
      ]
    },
    {
      "cell_type": "code",
      "metadata": {
        "id": "8O9HYY4pDwjz",
        "colab_type": "code",
        "outputId": "fefaab9d-300a-432a-a123-09cb7d61005a",
        "colab": {
          "base_uri": "https://localhost:8080/",
          "height": 54
        }
      },
      "source": [
        "im=plt.imread('PDCV1.jpeg')\n",
        "print(im.shape)\n",
        "# im=im.flatten()\n",
        "im = (im>(0.5*255))*1\n",
        "riverCount=np.sum(im==1)\n",
        "im.shape"
      ],
      "execution_count": 6,
      "outputs": [
        {
          "output_type": "stream",
          "text": [
            "(512, 512)\n"
          ],
          "name": "stdout"
        },
        {
          "output_type": "execute_result",
          "data": {
            "text/plain": [
              "(512, 512)"
            ]
          },
          "metadata": {
            "tags": []
          },
          "execution_count": 6
        }
      ]
    },
    {
      "cell_type": "code",
      "metadata": {
        "id": "GF-Dyx88FJNq",
        "colab_type": "code",
        "colab": {}
      },
      "source": [
        "def coordinates(im):\n",
        "  nonRiverCoordinates=[]\n",
        "  riverCoordinates=[]\n",
        "  cnt=0\n",
        "  for i in range(512):\n",
        "    for j in range(512):\n",
        "      if(im[i][j]==1):\n",
        "        riverCoordinates.append((i,j))\n",
        "      else:\n",
        "        nonRiverCoordinates.append((i,j))\n",
        "  # print(nonRiverCoordinates)\n",
        "\n",
        "  riverCoordinates=random.sample(riverCoordinates, 50)\n",
        "  nonRiverCoordinates=random.sample(nonRiverCoordinates, 100)\n",
        "  return riverCoordinates,nonRiverCoordinates"
      ],
      "execution_count": 0,
      "outputs": []
    },
    {
      "cell_type": "code",
      "metadata": {
        "id": "NhKPKf_LIM9d",
        "colab_type": "code",
        "outputId": "6c222623-3aa4-4ccf-ef9a-fdb03a399269",
        "colab": {
          "base_uri": "https://localhost:8080/",
          "height": 55
        }
      },
      "source": [
        "riverCoordinates, nonRiverCoordinates=coordinates(im)\n",
        "print(riverCoordinates)"
      ],
      "execution_count": 8,
      "outputs": [
        {
          "output_type": "stream",
          "text": [
            "[(144, 176), (36, 161), (85, 175), (36, 154), (105, 180), (16, 155), (264, 199), (372, 193), (497, 143), (248, 200), (348, 218), (2, 149), (305, 219), (257, 204), (331, 210), (106, 177), (390, 180), (18, 151), (192, 170), (302, 219), (175, 159), (455, 181), (17, 151), (305, 208), (396, 187), (42, 156), (248, 181), (350, 197), (309, 214), (342, 223), (395, 183), (186, 167), (89, 185), (223, 182), (184, 162), (158, 156), (64, 169), (400, 188), (473, 171), (252, 181), (314, 207), (303, 226), (246, 199), (1, 142), (479, 162), (109, 172), (131, 173), (362, 200), (348, 215), (231, 184)]\n"
          ],
          "name": "stdout"
        }
      ]
    },
    {
      "cell_type": "code",
      "metadata": {
        "id": "gvwxYxo9IbC8",
        "colab_type": "code",
        "colab": {}
      },
      "source": [
        "n=512*512\n",
        "dt=np.ndarray(shape=(n,4))\n",
        "for i in range(4):\n",
        "  cnt=0\n",
        "  for j in range(512):\n",
        "    for k in range(512):\n",
        "      dt[cnt][i]=test_data[ j][k][i ]\n",
        "      cnt+=1"
      ],
      "execution_count": 0,
      "outputs": []
    },
    {
      "cell_type": "code",
      "metadata": {
        "id": "spvfRA_CMHtR",
        "colab_type": "code",
        "colab": {}
      },
      "source": [
        "def pca(dt,param):\n",
        "  row=dt.shape[0]\n",
        "  col=dt.shape[1]\n",
        "  meanMatrix=np.mean(dt,axis=0)\n",
        "  deviationMatrix=np.subtract(dt,meanMatrix)\n",
        "  covMatrix=np.dot(deviationMatrix.T,deviationMatrix)*(1/row)\n",
        "\n",
        "  eigenValue,eigenVector = np.linalg.eig(covMatrix)\n",
        "  EigenVectorValue=[(eigenValue[i],eigenVector[i])for i in range(len(eigenValue))]\n",
        "  EigenVectorValue.sort(reverse=True)\n",
        "  W=np.ndarray(shape=(param,col))\n",
        "  for i in range(param):\n",
        "    W[i,:]=EigenVectorValue[i][1]\n",
        "  W=np.transpose(W)\n",
        "  return np.dot(dt,W)"
      ],
      "execution_count": 0,
      "outputs": []
    },
    {
      "cell_type": "code",
      "metadata": {
        "id": "cYl1eb0BtOxy",
        "colab_type": "code",
        "colab": {}
      },
      "source": [
        "K=2\n",
        "reducedMatrix=pca(dt,K)"
      ],
      "execution_count": 0,
      "outputs": []
    },
    {
      "cell_type": "code",
      "metadata": {
        "id": "GOQ4yogAuGql",
        "colab_type": "code",
        "outputId": "0f760750-deb9-4583-ad75-f871f9578271",
        "colab": {
          "base_uri": "https://localhost:8080/",
          "height": 35
        }
      },
      "source": [
        "newImg=np.ndarray(shape=(512,512,K))\n",
        "for param in range(2):\n",
        "  m=0\n",
        "  for j in range(512):\n",
        "    for k in range(512):\n",
        "      newImg[j][k][param]=reducedMatrix[m][param]\n",
        "      m+=1\n",
        "print(newImg.shape)"
      ],
      "execution_count": 12,
      "outputs": [
        {
          "output_type": "stream",
          "text": [
            "(512, 512, 2)\n"
          ],
          "name": "stdout"
        }
      ]
    },
    {
      "cell_type": "code",
      "metadata": {
        "id": "002f5E5NuSsj",
        "colab_type": "code",
        "outputId": "3df03d67-fb79-42ee-e515-c4c48c6a2e04",
        "colab": {
          "base_uri": "https://localhost:8080/",
          "height": 35
        }
      },
      "source": [
        "riverReduced=np.ndarray(shape=(50,K))\n",
        "nonRiverReduced=np.ndarray(shape=(100,K))\n",
        "for i in range(2):\n",
        "  for j in range(50):\n",
        "    riverReduced[j][i]=newImg[ riverCoordinates[j][0],riverCoordinates[j][1],i ]\n",
        "for i in range(2):\n",
        "  for j in range(100):\n",
        "    nonRiverReduced[j][i]=newImg[ nonRiverCoordinates[j][0],nonRiverCoordinates[j][1],i ]\n",
        "\n",
        "nonRiverReduced.shape"
      ],
      "execution_count": 13,
      "outputs": [
        {
          "output_type": "execute_result",
          "data": {
            "text/plain": [
              "(100, 2)"
            ]
          },
          "metadata": {
            "tags": []
          },
          "execution_count": 13
        }
      ]
    },
    {
      "cell_type": "code",
      "metadata": {
        "id": "a48Bh0tTWWTF",
        "colab_type": "code",
        "colab": {}
      },
      "source": [
        "def probRiver_NonRiver(i,j,riverCov,nonRiverCov,newImg):\n",
        "\n",
        "  meanRiverReduced=np.mean(riverReduced,axis=0)\n",
        "  meanNonRiverReduced=np.mean(nonRiverReduced,axis=0)\n",
        "  riverDeviation = np.subtract(newImg[i,j,:],meanRiverReduced)\n",
        "  nonRiverDeviation = np.subtract(newImg[i,j,:],meanNonRiverReduced)\n",
        "\n",
        "  riverImgs = np.dot(np.dot(riverDeviation.T,np.linalg.inv(riverCov)),riverDeviation)\n",
        "  nonRiverImgs = np.dot(np.dot(nonRiverDeviation.T,np.linalg.inv(nonRiverCov)), nonRiverDeviation)\n",
        "\n",
        "  probRiver = (-0.5) * 1/np.sqrt(np.linalg.det(riverCov)) * np.exp(riverImgs);\n",
        "  probNonRiver = (-0.5) * 1/np.sqrt(np.linalg.det(nonRiverCov)) * np.exp(nonRiverImgs);\n",
        "  return probRiver,probNonRiver"
      ],
      "execution_count": 0,
      "outputs": []
    },
    {
      "cell_type": "code",
      "metadata": {
        "id": "tiB-MAbiWrut",
        "colab_type": "code",
        "colab": {}
      },
      "source": [
        "def prediction(newImg,riverReduced,nonRiverReduced):\n",
        "\n",
        "  meanMatrix=np.mean(riverReduced,axis=0)\n",
        "  deviationMatrix=np.subtract(riverReduced,meanMatrix)\n",
        "  riverCov=np.dot(deviationMatrix.T,deviationMatrix)*(1/riverReduced.shape[0])\n",
        "\n",
        "  meanMatrix=np.mean(nonRiverReduced,axis=0)\n",
        "  deviationMatrix=np.subtract(nonRiverReduced,meanMatrix)\n",
        "  nonRiverCov=np.dot(deviationMatrix.T,deviationMatrix)*(1/nonRiverReduced.shape[0])\n",
        "\n",
        "  classifiedImage=np.ndarray(shape=(512, 512), dtype = np.integer)\n",
        "  for row in range(512):\n",
        "    for col in range(512):\n",
        "      probRiver,probNonRiver = probRiver_NonRiver(row,col,riverCov,nonRiverCov,newImg)\n",
        "      if((1/3 * probRiver) >= (2/3 * probNonRiver)):\n",
        "          classifiedImage[row,col]=255\n",
        "      else:\n",
        "          classifiedImage[row,col]=0\n",
        "                \n",
        "  return classifiedImage"
      ],
      "execution_count": 0,
      "outputs": []
    },
    {
      "cell_type": "code",
      "metadata": {
        "id": "pWbNDyLrW2bf",
        "colab_type": "code",
        "outputId": "fcd34d69-c66a-4834-e06f-02a3b6e2ae89",
        "colab": {
          "base_uri": "https://localhost:8080/",
          "height": 324
        }
      },
      "source": [
        "classifiedImage = prediction(newImg,riverReduced,nonRiverReduced)\n",
        "plt.imshow(classifiedImage)"
      ],
      "execution_count": 16,
      "outputs": [
        {
          "output_type": "stream",
          "text": [
            "/usr/local/lib/python3.6/dist-packages/ipykernel_launcher.py:11: RuntimeWarning: overflow encountered in exp\n",
            "  # This is added back by InteractiveShellApp.init_path()\n"
          ],
          "name": "stderr"
        },
        {
          "output_type": "execute_result",
          "data": {
            "text/plain": [
              "<matplotlib.image.AxesImage at 0x7fc48a0e0240>"
            ]
          },
          "metadata": {
            "tags": []
          },
          "execution_count": 16
        },
        {
          "output_type": "display_data",
          "data": {
            "image/png": "[encoded data removed]",
            "text/plain": [
              "<Figure size 432x288 with 1 Axes>"
            ]
          },
          "metadata": {
            "tags": []
          }
        }
      ]
    },
    {
      "cell_type": "code",
      "metadata": {
        "id": "eFbw-DRvjPT6",
        "colab_type": "code",
        "colab": {}
      },
      "source": [
        ""
      ],
      "execution_count": 0,
      "outputs": []
    }
  ]
}