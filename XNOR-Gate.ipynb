{
  "nbformat": 4,
  "nbformat_minor": 0,
  "metadata": {
    "colab": {
      "name": "finalXNOR.ipynb",
      "provenance": []
    },
    "kernelspec": {
      "name": "python3",
      "display_name": "Python 3"
    }
  },
  "cells": [
    {
      "cell_type": "code",
      "metadata": {
        "id": "-7ho-XSOPQ04",
        "colab_type": "code",
        "colab": {}
      },
      "source": [
        "import numpy as np"
      ],
      "execution_count": 0,
      "outputs": []
    },
    {
      "cell_type": "code",
      "metadata": {
        "id": "4Iq0BicG8PC7",
        "colab_type": "code",
        "colab": {}
      },
      "source": [
        "X = np.array([[0,0],[0,1],[1,0],[1,1]])\n",
        "Y = np.array([[1],[0],[0],[1]])"
      ],
      "execution_count": 0,
      "outputs": []
    },
    {
      "cell_type": "code",
      "metadata": {
        "id": "-J_8aTly8Udj",
        "colab_type": "code",
        "colab": {}
      },
      "source": [
        "hiddenWt = np.array([[0.1,0.3],[-0.2,0.4]]).reshape(2,2)\n",
        "hiddenBias = np.array([0.1,-0.2]).reshape(1,2)\n",
        "outputWt = np.array([0.2,-0.1]).reshape(2,1)\n",
        "outputBias = np.array([-0.1]).reshape(1,1)"
      ],
      "execution_count": 0,
      "outputs": []
    },
    {
      "cell_type": "code",
      "metadata": {
        "id": "tlq7KRTC9nKd",
        "colab_type": "code",
        "colab": {}
      },
      "source": [
        "def activation(val):\n",
        "  ans=np.exp(-val)+1\n",
        "  return 1/ans"
      ],
      "execution_count": 0,
      "outputs": []
    },
    {
      "cell_type": "code",
      "metadata": {
        "id": "kbsgT1Xf9tEl",
        "colab_type": "code",
        "colab": {}
      },
      "source": [
        "def forDelta(val):\n",
        "  ans=val*(1-val)\n",
        "  return ans"
      ],
      "execution_count": 0,
      "outputs": []
    },
    {
      "cell_type": "code",
      "metadata": {
        "id": "bwQ2du8i8yfh",
        "colab_type": "code",
        "colab": {}
      },
      "source": [
        "def optimizeWeights(X,Y,hiddenWt,hiddenBias,outputWt,outputBias,epochs,alpha):\n",
        "\n",
        "  for i in range(epochs):\n",
        "    product=np.add(np.dot(X,hiddenWt),hiddenBias)\n",
        "    outputHiddenLayer = activation(product)\n",
        "\n",
        "    product=np.add(np.dot(outputHiddenLayer,outputWt),outputBias)\n",
        "    finalOutput= activation(product)\n",
        "\n",
        "    errorTotal = np.subtract(Y,finalOutput)\n",
        "    deltaOutput = errorTotal * forDelta(finalOutput)\n",
        "\n",
        "    errorHidden=np.dot(deltaOutput,outputWt.T)\n",
        "    deltaHidden=errorHidden*forDelta(outputHiddenLayer)\n",
        "\n",
        "    outputWt += np.dot(outputHiddenLayer.T,deltaOutput) * alpha\n",
        "    outputBias += np.sum(deltaOutput,axis=0,keepdims=True) * alpha\n",
        "    hiddenWt += np.dot(X.T,deltaHidden) * alpha\n",
        "    hiddenBias += np.sum(deltaHidden,axis=0,keepdims=True) * alpha\n",
        "\n",
        "  return finalOutput"
      ],
      "execution_count": 0,
      "outputs": []
    },
    {
      "cell_type": "code",
      "metadata": {
        "id": "RD4tnZYpFyvr",
        "colab_type": "code",
        "colab": {}
      },
      "source": [
        "epochs=1000000\n",
        "alpha=0.1\n",
        "finalOutput = optimizeWeights(X,Y,hiddenWt,hiddenBias,outputWt,outputBias,epochs,alpha)"
      ],
      "execution_count": 0,
      "outputs": []
    },
    {
      "cell_type": "code",
      "metadata": {
        "id": "F7RLKwvKI6EW",
        "colab_type": "code",
        "outputId": "fd5122bb-2e1e-4bb6-d905-545f33c40d1b",
        "colab": {
          "base_uri": "https://localhost:8080/",
          "height": 217
        }
      },
      "source": [
        "print(\"Final weights of Hidden Layer: \",hiddenWt)\n",
        "print(\"Final biases of hidden Layer: \",hiddenBias)\n",
        "print(\"Final weights of outpu Layer: \",outputWt)\n",
        "print(\"Final biases of output Layer: \",outputBias)\n",
        "\n",
        "print(\"Output Matrix obtained from the back propagation neural network: \")\n",
        "print(finalOutput)"
      ],
      "execution_count": 23,
      "outputs": [
        {
          "output_type": "stream",
          "text": [
            "Final weights of Hidden Layer:  [[5.52857999 7.33104356]\n",
            " [5.52669798 7.32369793]]\n",
            "Final biases of hidden Layer:  [[-8.46235479 -3.357403  ]]\n",
            "Final weights of outpu Layer:  [[ 13.21980673]\n",
            " [-12.5611388 ]]\n",
            "Final biases of output Layer:  [[5.95293105]]\n",
            "Output Matrix obtained from the back propagation neural network: \n",
            "[[0.99606145]\n",
            " [0.00330782]\n",
            " [0.00330622]\n",
            " [0.99663755]]\n"
          ],
          "name": "stdout"
        }
      ]
    },
    {
      "cell_type": "code",
      "metadata": {
        "id": "ecX99GYvJgog",
        "colab_type": "code",
        "colab": {}
      },
      "source": [
        "import matplotlib.pyplot as plt"
      ],
      "execution_count": 0,
      "outputs": []
    },
    {
      "cell_type": "code",
      "metadata": {
        "id": "ln_DMpetcGwZ",
        "colab_type": "code",
        "colab": {
          "base_uri": "https://localhost:8080/",
          "height": 281
        },
        "outputId": "8455f0b4-9770-4c58-855a-26b6267e5ac2"
      },
      "source": [
        "x = np.linspace(-1, 2, 40)\n",
        "plt.plot(x,(x*hiddenWt[0][1]+hiddenBias[0][0])/(-1*hiddenWt[0][0]))\n",
        "plt.plot(x,(x*hiddenWt[1][1]+hiddenBias[0][1])/(-1*hiddenWt[1][0]))\n",
        "for i in range(len(Y)):\n",
        "  if(Y[i][0]==0):\n",
        "    plt.scatter(X[i,0],X[i,1],color='green')\n",
        "  else:\n",
        "    plt.scatter(X[i,0],X[i,1],color='red')\n",
        "plt.title(\"XNOR Gate\")\n",
        "plt.show()"
      ],
      "execution_count": 25,
      "outputs": [
        {
          "output_type": "display_data",
          "data": {
            "image/png": "[encoded data removed]",
            "text/plain": [
              "<Figure size 432x288 with 1 Axes>"
            ]
          },
          "metadata": {
            "tags": [],
            "needs_background": "light"
          }
        }
      ]
    },
    {
      "cell_type": "markdown",
      "metadata": {
        "id": "WRYDQAwryvQg",
        "colab_type": "text"
      },
      "source": [
        "Here the **green dots** represent the output value **0** and the **red dots** represent the ouput value **1**."
      ]
    },
    {
      "cell_type": "markdown",
      "metadata": {
        "id": "UbPuFI8PzXXQ",
        "colab_type": "text"
      },
      "source": [
        "The above network can easily be verified by this graph. **The lines plotted using the weights and biases obtained by the network, seggregate the red and green points**. The area between the lines represent the area where output is 0 and the area left represent the area with output 1"
      ]
    },
    {
      "cell_type": "markdown",
      "metadata": {
        "id": "iqEV8_8B0Ucs",
        "colab_type": "text"
      },
      "source": [
        "Also the output matrix obtained by the function optimizedWeights can also be used to test this network. In this matrix, for input values whose expected output is 1, the values obtained are close to 1.\n",
        "Similarly for expected value 0, the obtained output values are close to 0."
      ]
    },
    {
      "cell_type": "markdown",
      "metadata": {
        "id": "8ZYQcwB41hQD",
        "colab_type": "text"
      },
      "source": [
        "So, we can conclude that the network is working correctly."
      ]
    },
    {
      "cell_type": "code",
      "metadata": {
        "id": "xBbhi7Vl1qOI",
        "colab_type": "code",
        "colab": {}
      },
      "source": [
        ""
      ],
      "execution_count": 0,
      "outputs": []
    }
  ]
}