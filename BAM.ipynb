{
  "nbformat": 4,
  "nbformat_minor": 0,
  "metadata": {
    "colab": {
      "name": "BAM.ipynb",
      "provenance": []
    },
    "kernelspec": {
      "name": "python3",
      "display_name": "Python 3"
    }
  },
  "cells": [
    {
      "cell_type": "code",
      "metadata": {
        "id": "qpL603KHQvet",
        "colab_type": "code",
        "colab": {}
      },
      "source": [
        "import numpy as np"
      ],
      "execution_count": 0,
      "outputs": []
    },
    {
      "cell_type": "code",
      "metadata": {
        "id": "bMnFXKEpQyFF",
        "colab_type": "code",
        "colab": {}
      },
      "source": [
        "X=np.array([[1,1,1,1,1,1],[-1,-1,-1,-1,-1,-1],[1,-1,-1,1,1,1],[1,1,-1,-1,-1,-1]])\n",
        "Y=np.array([[1,1,1],[-1,-1,-1],[-1,1,1],[1,-1,1]])"
      ],
      "execution_count": 0,
      "outputs": []
    },
    {
      "cell_type": "code",
      "metadata": {
        "id": "VqU1RRmFU9Q8",
        "colab_type": "code",
        "outputId": "abb5cd76-2bc5-4700-a855-626045d544e6",
        "colab": {
          "base_uri": "https://localhost:8080/",
          "height": 90
        }
      },
      "source": [
        "X"
      ],
      "execution_count": 54,
      "outputs": [
        {
          "output_type": "execute_result",
          "data": {
            "text/plain": [
              "array([[ 1,  1,  1,  1,  1,  1],\n",
              "       [-1, -1, -1, -1, -1, -1],\n",
              "       [ 1, -1, -1,  1,  1,  1],\n",
              "       [ 1,  1, -1, -1, -1, -1]])"
            ]
          },
          "metadata": {
            "tags": []
          },
          "execution_count": 54
        }
      ]
    },
    {
      "cell_type": "code",
      "metadata": {
        "id": "Ba4U2vwsXgnt",
        "colab_type": "code",
        "outputId": "ad53474b-5258-4e58-ac42-c979cfe899ef",
        "colab": {
          "base_uri": "https://localhost:8080/",
          "height": 90
        }
      },
      "source": [
        "Y"
      ],
      "execution_count": 55,
      "outputs": [
        {
          "output_type": "execute_result",
          "data": {
            "text/plain": [
              "array([[ 1,  1,  1],\n",
              "       [-1, -1, -1],\n",
              "       [-1,  1,  1],\n",
              "       [ 1, -1,  1]])"
            ]
          },
          "metadata": {
            "tags": []
          },
          "execution_count": 55
        }
      ]
    },
    {
      "cell_type": "code",
      "metadata": {
        "id": "kB4ioj0KXpdQ",
        "colab_type": "code",
        "colab": {}
      },
      "source": [
        "weightMatrix=np.zeros((6,3)).astype(int)"
      ],
      "execution_count": 0,
      "outputs": []
    },
    {
      "cell_type": "code",
      "metadata": {
        "id": "v5HiSo5DaoRZ",
        "colab_type": "code",
        "colab": {}
      },
      "source": [
        "for i in range(X.shape[0]):\n",
        "  weightMatrix+=np.dot( (X[i].reshape(1,X[i].shape[0])).T , Y[i].reshape(1,Y[i].shape[0]) )"
      ],
      "execution_count": 0,
      "outputs": []
    },
    {
      "cell_type": "code",
      "metadata": {
        "id": "8rXeWww3a_Yd",
        "colab_type": "code",
        "outputId": "a0bdb0e8-e7da-44a7-98b9-aeacaf093c8c",
        "colab": {
          "base_uri": "https://localhost:8080/",
          "height": 126
        }
      },
      "source": [
        "weightMatrix"
      ],
      "execution_count": 58,
      "outputs": [
        {
          "output_type": "execute_result",
          "data": {
            "text/plain": [
              "array([[2, 2, 4],\n",
              "       [4, 0, 2],\n",
              "       [2, 2, 0],\n",
              "       [0, 4, 2],\n",
              "       [0, 4, 2],\n",
              "       [0, 4, 2]])"
            ]
          },
          "metadata": {
            "tags": []
          },
          "execution_count": 58
        }
      ]
    },
    {
      "cell_type": "code",
      "metadata": {
        "id": "XtwFp0EjVHne",
        "colab_type": "code",
        "colab": {}
      },
      "source": [
        "def activation(val):\n",
        "  if val>=0:\n",
        "    return 1\n",
        "  else:\n",
        "    return -1;"
      ],
      "execution_count": 0,
      "outputs": []
    },
    {
      "cell_type": "code",
      "metadata": {
        "id": "W6Oh5hSsc616",
        "colab_type": "code",
        "colab": {}
      },
      "source": [
        "#Here we take Y as input and obtain X values\n",
        "def testForY(X,weightMatrix,Y):\n",
        "  obtainedY=np.zeros((4,3))\n",
        "  obtainedY=obtainedY.astype(int)\n",
        "  for i in range(4):\n",
        "    obtainedY[i]=(np.dot( (X[i].reshape(1,X[i].shape[0])) , (weightMatrix)) )\n",
        "\n",
        "  for i in range(len(obtainedY)):\n",
        "    for j in range(len(obtainedY[i])):\n",
        "      obtainedY[i][j]=activation(obtainedY[i][j])\n",
        "  print('obtainedY :-',obtainedY)\n",
        "  \n",
        "#Here we take Y as input and obtain X values\n",
        "def testForX(X,weightMatrix,Y):\n",
        "  obtainedX=np.zeros((4,6))\n",
        "  obtainedX=obtainedX.astype(int)\n",
        "  for i in range(4):\n",
        "    obtainedX[i]=(np.dot( (Y[i].reshape(1,Y[i].shape[0])) , (weightMatrix).T) )\n",
        "\n",
        "  for i in range(len(obtainedX)):\n",
        "    for j in range(len(obtainedX[i])):\n",
        "      obtainedX[i][j]=activation(obtainedX[i][j])\n",
        "  print('obtainedX :-',obtainedX)"
      ],
      "execution_count": 0,
      "outputs": []
    },
    {
      "cell_type": "code",
      "metadata": {
        "id": "qDmpI7L4evZE",
        "colab_type": "code",
        "outputId": "690d77a8-1876-4931-d2f2-29d4b4d8c00e",
        "colab": {
          "base_uri": "https://localhost:8080/",
          "height": 90
        }
      },
      "source": [
        "testForY(X,weightMatrix,Y)"
      ],
      "execution_count": 75,
      "outputs": [
        {
          "output_type": "stream",
          "text": [
            "obtainedY :- [[ 1  1  1]\n",
            " [-1 -1 -1]\n",
            " [-1  1  1]\n",
            " [ 1 -1  1]]\n"
          ],
          "name": "stdout"
        }
      ]
    },
    {
      "cell_type": "code",
      "metadata": {
        "id": "hYzfGFKXfihP",
        "colab_type": "code",
        "outputId": "4fa79634-3cb9-426e-8b4b-8ac50fb03a19",
        "colab": {
          "base_uri": "https://localhost:8080/",
          "height": 90
        }
      },
      "source": [
        "testForX(X,weightMatrix,Y)"
      ],
      "execution_count": 76,
      "outputs": [
        {
          "output_type": "stream",
          "text": [
            "obtainedX :- [[ 1  1  1  1  1  1]\n",
            " [-1 -1 -1 -1 -1 -1]\n",
            " [ 1 -1  1  1  1  1]\n",
            " [ 1  1  1 -1 -1 -1]]\n"
          ],
          "name": "stdout"
        }
      ]
    },
    {
      "cell_type": "markdown",
      "metadata": {
        "id": "IagUSD4JYFxV",
        "colab_type": "text"
      },
      "source": [
        "Here we see that, in the obtainedX matrix two of the values differ from the original X matrix. This problem occurs due to **incorrect convergence of BAM**. So, we observe that BAM might not always produce the closest associtation.\n"
      ]
    },
    {
      "cell_type": "code",
      "metadata": {
        "id": "656NsqrDYvjc",
        "colab_type": "code",
        "colab": {}
      },
      "source": [
        ""
      ],
      "execution_count": 0,
      "outputs": []
    }
  ]
}