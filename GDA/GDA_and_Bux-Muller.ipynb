{
  "nbformat": 4,
  "nbformat_minor": 0,
  "metadata": {
    "colab": {
      "name": "Copy of GDA_BM (2).ipynb",
      "provenance": []
    },
    "kernelspec": {
      "name": "python3",
      "display_name": "Python 3"
    }
  },
  "cells": [
    {
      "cell_type": "code",
      "metadata": {
        "id": "1tHOeRGsL3cq",
        "colab_type": "code",
        "colab": {}
      },
      "source": [
        "import numpy as np\n",
        "import matplotlib.pyplot as plt\n",
        "from numpy import random\n",
        "import pandas as pd\n",
        "from pylab import show, hist, subplot, figure"
      ],
      "execution_count": 0,
      "outputs": []
    },
    {
      "cell_type": "code",
      "metadata": {
        "id": "ga0PNfKwMApX",
        "colab_type": "code",
        "outputId": "ca6ad3a9-9240-4fb1-dc14-c6a0a567db36",
        "colab": {
          "base_uri": "https://localhost:8080/",
          "height": 407
        }
      },
      "source": [
        "dt=pd.read_csv('microchipDataset.csv', delimiter = ',')\n",
        "dt"
      ],
      "execution_count": 22,
      "outputs": [
        {
          "output_type": "execute_result",
          "data": {
            "text/html": [
              "<div>\n",
              "<style scoped>\n",
              "    .dataframe tbody tr th:only-of-type {\n",
              "        vertical-align: middle;\n",
              "    }\n",
              "\n",
              "    .dataframe tbody tr th {\n",
              "        vertical-align: top;\n",
              "    }\n",
              "\n",
              "    .dataframe thead th {\n",
              "        text-align: right;\n",
              "    }\n",
              "</style>\n",
              "<table border=\"1\" class=\"dataframe\">\n",
              "  <thead>\n",
              "    <tr style=\"text-align: right;\">\n",
              "      <th></th>\n",
              "      <th>x1</th>\n",
              "      <th>x2</th>\n",
              "      <th>label</th>\n",
              "    </tr>\n",
              "  </thead>\n",
              "  <tbody>\n",
              "    <tr>\n",
              "      <th>0</th>\n",
              "      <td>0.051267</td>\n",
              "      <td>0.699560</td>\n",
              "      <td>1</td>\n",
              "    </tr>\n",
              "    <tr>\n",
              "      <th>1</th>\n",
              "      <td>-0.092742</td>\n",
              "      <td>0.684940</td>\n",
              "      <td>1</td>\n",
              "    </tr>\n",
              "    <tr>\n",
              "      <th>2</th>\n",
              "      <td>-0.213710</td>\n",
              "      <td>0.692250</td>\n",
              "      <td>1</td>\n",
              "    </tr>\n",
              "    <tr>\n",
              "      <th>3</th>\n",
              "      <td>-0.375000</td>\n",
              "      <td>0.502190</td>\n",
              "      <td>1</td>\n",
              "    </tr>\n",
              "    <tr>\n",
              "      <th>4</th>\n",
              "      <td>-0.513250</td>\n",
              "      <td>0.465640</td>\n",
              "      <td>1</td>\n",
              "    </tr>\n",
              "    <tr>\n",
              "      <th>...</th>\n",
              "      <td>...</td>\n",
              "      <td>...</td>\n",
              "      <td>...</td>\n",
              "    </tr>\n",
              "    <tr>\n",
              "      <th>113</th>\n",
              "      <td>-0.720620</td>\n",
              "      <td>0.538740</td>\n",
              "      <td>0</td>\n",
              "    </tr>\n",
              "    <tr>\n",
              "      <th>114</th>\n",
              "      <td>-0.593890</td>\n",
              "      <td>0.494880</td>\n",
              "      <td>0</td>\n",
              "    </tr>\n",
              "    <tr>\n",
              "      <th>115</th>\n",
              "      <td>-0.484450</td>\n",
              "      <td>0.999270</td>\n",
              "      <td>0</td>\n",
              "    </tr>\n",
              "    <tr>\n",
              "      <th>116</th>\n",
              "      <td>-0.006336</td>\n",
              "      <td>0.999270</td>\n",
              "      <td>0</td>\n",
              "    </tr>\n",
              "    <tr>\n",
              "      <th>117</th>\n",
              "      <td>0.632650</td>\n",
              "      <td>-0.030612</td>\n",
              "      <td>0</td>\n",
              "    </tr>\n",
              "  </tbody>\n",
              "</table>\n",
              "<p>118 rows × 3 columns</p>\n",
              "</div>"
            ],
            "text/plain": [
              "           x1        x2  label\n",
              "0    0.051267  0.699560      1\n",
              "1   -0.092742  0.684940      1\n",
              "2   -0.213710  0.692250      1\n",
              "3   -0.375000  0.502190      1\n",
              "4   -0.513250  0.465640      1\n",
              "..        ...       ...    ...\n",
              "113 -0.720620  0.538740      0\n",
              "114 -0.593890  0.494880      0\n",
              "115 -0.484450  0.999270      0\n",
              "116 -0.006336  0.999270      0\n",
              "117  0.632650 -0.030612      0\n",
              "\n",
              "[118 rows x 3 columns]"
            ]
          },
          "metadata": {
            "tags": []
          },
          "execution_count": 22
        }
      ]
    },
    {
      "cell_type": "code",
      "metadata": {
        "id": "7zHaxleFQRJ9",
        "colab_type": "code",
        "colab": {}
      },
      "source": [
        "X=[]\n",
        "Y=[]\n",
        "for i in range(len(dt)):\n",
        "  temp=[]\n",
        "  temp1=[]\n",
        "  temp.append(dt.iloc[i,0])\n",
        "  temp.append(dt.iloc[i,1])\n",
        "  X.append(temp)\n",
        "  # temp1.append(dt.iloc[i,2])\n",
        "  Y.append(dt.iloc[i,2])"
      ],
      "execution_count": 0,
      "outputs": []
    },
    {
      "cell_type": "code",
      "metadata": {
        "id": "Vqoj-7KAnAgk",
        "colab_type": "code",
        "colab": {}
      },
      "source": [
        "sample1=np.random.rand(1000)\n",
        "sample2=np.random.rand(1000)\n",
        "\n",
        "z1=np.sqrt(-2 * np.log(sample1)) * np.cos(2 * np.pi * sample2)\n",
        "z2=np.sqrt(-2 * np.log(sample1)) * np.cos(2 * np.pi * sample2)+2"
      ],
      "execution_count": 0,
      "outputs": []
    },
    {
      "cell_type": "code",
      "metadata": {
        "id": "b5SQ69DToMYN",
        "colab_type": "code",
        "outputId": "7018ad65-ab7f-40a7-aaa6-f40fdf312533",
        "colab": {
          "base_uri": "https://localhost:8080/",
          "height": 181
        }
      },
      "source": [
        "newX1=[]\n",
        "newX2=[]\n",
        "for i in range(len(Y)):\n",
        "  if Y[i]==1:\n",
        "    newX1.append(random.choice(z2))\n",
        "    newX2.append(random.choice(z2))\n",
        "  else:\n",
        "    newX1.append(random.choice(z1))\n",
        "    newX2.append(random.choice(z1))\n",
        "\n",
        "distribution = np.c_[z1, z2]\n",
        "subplot(211)\n",
        "hist(distribution)\n",
        "plt.title('Distribution of data for classes 1 and 0')"
      ],
      "execution_count": 25,
      "outputs": [
        {
          "output_type": "execute_result",
          "data": {
            "text/plain": [
              "Text(0.5, 1.0, 'Distribution of data for classes 1 and 0')"
            ]
          },
          "metadata": {
            "tags": []
          },
          "execution_count": 25
        },
        {
          "output_type": "display_data",
          "data": {
            "image/png": "[encoded data removed]",
            "text/plain": [
              "<Figure size 432x288 with 1 Axes>"
            ]
          },
          "metadata": {
            "tags": [],
            "needs_background": "light"
          }
        }
      ]
    },
    {
      "cell_type": "code",
      "metadata": {
        "id": "3MKWEU9sYfST",
        "colab_type": "code",
        "colab": {}
      },
      "source": [
        "trainX=[]\n",
        "trainY=[]\n",
        "testX=[]\n",
        "testY=[]\n",
        "for i in range(len(Y)):\n",
        "  if(i<0.70*len(Y)):\n",
        "    trainX.append([newX1[i],newX2[i]])\n",
        "    trainY.append([Y[i]])\n",
        "  else:\n",
        "    testX.append([newX1[i],newX2[i]])\n",
        "    testY.append([Y[i]])"
      ],
      "execution_count": 0,
      "outputs": []
    },
    {
      "cell_type": "code",
      "metadata": {
        "id": "aDuHZk_DZB9_",
        "colab_type": "code",
        "colab": {}
      },
      "source": [
        "trainX = np.asarray(trainX)\n",
        "trainY = np.asarray(trainY)\n",
        "testX = np.asarray(testX)\n",
        "testY = np.asarray(testY)"
      ],
      "execution_count": 0,
      "outputs": []
    },
    {
      "cell_type": "code",
      "metadata": {
        "id": "EdeIM6zibLJh",
        "colab_type": "code",
        "colab": {}
      },
      "source": [
        "cnt=0\n",
        "mu0=np.zeros((1,trainX.shape[1]))\n",
        "for i in range(len(trainX)):\n",
        "  if(trainY[i]==0):\n",
        "    mu0[0,:]+=trainX[i]\n",
        "    cnt+=1\n",
        "mu0=mu0/(cnt)\n",
        "\n",
        "cnt=0\n",
        "mu1=np.zeros((1,trainX.shape[1]))\n",
        "for i in range(len(trainX)):\n",
        "  if(trainY[i]==1):\n",
        "    mu1[0,:]+=trainX[i]\n",
        "    cnt+=1\n",
        "mu1=mu1/(cnt)\n",
        "\n",
        "sigma=np.zeros((trainX.shape[0],trainX.shape[0]))\n",
        "temp=np.ndarray(shape=trainX.shape)\n",
        "for i in range(len(trainY)):\n",
        "  if(trainY[i]==1):\n",
        "    temp[i]=np.subtract(trainX[i],mu1)\n",
        "  else:\n",
        "    temp[i]=np.subtract(trainX[i],mu0)\n",
        "sigma=np.dot(temp.T,temp)/len(trainY)\n"
      ],
      "execution_count": 0,
      "outputs": []
    },
    {
      "cell_type": "code",
      "metadata": {
        "id": "f1tm4rdkbSDa",
        "colab_type": "code",
        "outputId": "14ebeb57-d509-4a3d-826b-ce6598a2ac5c",
        "colab": {
          "base_uri": "https://localhost:8080/",
          "height": 35
        }
      },
      "source": [
        "mu0"
      ],
      "execution_count": 29,
      "outputs": [
        {
          "output_type": "execute_result",
          "data": {
            "text/plain": [
              "array([[0.11416843, 0.06326132]])"
            ]
          },
          "metadata": {
            "tags": []
          },
          "execution_count": 29
        }
      ]
    },
    {
      "cell_type": "code",
      "metadata": {
        "id": "tn6Wkf4bbVbM",
        "colab_type": "code",
        "outputId": "a8d3a23f-1eeb-4523-8afe-7d55dec9d96b",
        "colab": {
          "base_uri": "https://localhost:8080/",
          "height": 35
        }
      },
      "source": [
        "mu1"
      ],
      "execution_count": 30,
      "outputs": [
        {
          "output_type": "execute_result",
          "data": {
            "text/plain": [
              "array([[1.93294301, 2.07559012]])"
            ]
          },
          "metadata": {
            "tags": []
          },
          "execution_count": 30
        }
      ]
    },
    {
      "cell_type": "code",
      "metadata": {
        "id": "m0fq6TVV3-rY",
        "colab_type": "code",
        "outputId": "552c4e35-667f-4af8-94c9-e7af90aafca7",
        "colab": {
          "base_uri": "https://localhost:8080/",
          "height": 35
        }
      },
      "source": [
        "print(trainX.shape,trainY.shape)"
      ],
      "execution_count": 31,
      "outputs": [
        {
          "output_type": "stream",
          "text": [
            "(83, 2) (83, 1)\n"
          ],
          "name": "stdout"
        }
      ]
    },
    {
      "cell_type": "code",
      "metadata": {
        "id": "6Clb6xvKQB_J",
        "colab_type": "code",
        "outputId": "089c2ce0-1737-4449-f537-fcf7e94c98be",
        "colab": {
          "base_uri": "https://localhost:8080/",
          "height": 654
        }
      },
      "source": [
        "testX"
      ],
      "execution_count": 32,
      "outputs": [
        {
          "output_type": "execute_result",
          "data": {
            "text/plain": [
              "array([[ 1.67221255,  1.59574813],\n",
              "       [ 0.83291359,  0.95517002],\n",
              "       [-0.27288482,  1.49697344],\n",
              "       [ 1.60935365,  0.05102294],\n",
              "       [-1.52325718, -1.33245622],\n",
              "       [-0.80399395,  0.62463891],\n",
              "       [ 1.35082498, -1.68123966],\n",
              "       [ 1.82410949, -0.49769173],\n",
              "       [ 0.7970407 ,  0.0963043 ],\n",
              "       [-0.12485366, -0.07265827],\n",
              "       [ 1.12526457, -0.29356594],\n",
              "       [ 0.09559496, -1.65752631],\n",
              "       [ 0.83291359,  0.44095117],\n",
              "       [ 0.20929645, -0.3214381 ],\n",
              "       [ 0.78668453, -0.45575742],\n",
              "       [-0.31316456,  0.40296212],\n",
              "       [ 0.48112568, -0.69820887],\n",
              "       [ 0.12410202,  0.26396826],\n",
              "       [-1.26877045,  1.28033962],\n",
              "       [ 0.55424936, -0.46913598],\n",
              "       [-0.83248234, -0.86106811],\n",
              "       [-0.51125681, -0.18649386],\n",
              "       [-1.39015824, -0.86106811],\n",
              "       [ 0.38854551,  0.37872922],\n",
              "       [-0.8603907 ,  0.58214729],\n",
              "       [ 1.02348327, -0.96558835],\n",
              "       [ 0.97009406,  0.79498109],\n",
              "       [-0.31439899, -0.72788271],\n",
              "       [ 0.305175  , -0.59430953],\n",
              "       [ 1.09058679,  0.20430153],\n",
              "       [-0.2256279 ,  0.03342696],\n",
              "       [ 0.06102012,  0.0295354 ],\n",
              "       [-1.93587716,  1.46207286],\n",
              "       [ 0.13735026,  0.46642971],\n",
              "       [-0.3986603 , -0.51384322]])"
            ]
          },
          "metadata": {
            "tags": []
          },
          "execution_count": 32
        }
      ]
    },
    {
      "cell_type": "code",
      "metadata": {
        "id": "jY8ch6VWVMSo",
        "colab_type": "code",
        "outputId": "f81aa672-066b-4232-a4a1-fc1b4a7ab22e",
        "colab": {
          "base_uri": "https://localhost:8080/",
          "height": 1000
        }
      },
      "source": [
        "trainY"
      ],
      "execution_count": 33,
      "outputs": [
        {
          "output_type": "execute_result",
          "data": {
            "text/plain": [
              "array([[1],\n",
              "       [1],\n",
              "       [1],\n",
              "       [1],\n",
              "       [1],\n",
              "       [1],\n",
              "       [1],\n",
              "       [1],\n",
              "       [1],\n",
              "       [1],\n",
              "       [1],\n",
              "       [1],\n",
              "       [1],\n",
              "       [1],\n",
              "       [1],\n",
              "       [1],\n",
              "       [1],\n",
              "       [1],\n",
              "       [1],\n",
              "       [1],\n",
              "       [1],\n",
              "       [1],\n",
              "       [1],\n",
              "       [1],\n",
              "       [1],\n",
              "       [1],\n",
              "       [1],\n",
              "       [1],\n",
              "       [1],\n",
              "       [1],\n",
              "       [1],\n",
              "       [1],\n",
              "       [1],\n",
              "       [1],\n",
              "       [1],\n",
              "       [1],\n",
              "       [1],\n",
              "       [1],\n",
              "       [1],\n",
              "       [1],\n",
              "       [1],\n",
              "       [1],\n",
              "       [1],\n",
              "       [1],\n",
              "       [1],\n",
              "       [1],\n",
              "       [1],\n",
              "       [1],\n",
              "       [1],\n",
              "       [1],\n",
              "       [1],\n",
              "       [1],\n",
              "       [1],\n",
              "       [1],\n",
              "       [1],\n",
              "       [1],\n",
              "       [1],\n",
              "       [1],\n",
              "       [0],\n",
              "       [0],\n",
              "       [0],\n",
              "       [0],\n",
              "       [0],\n",
              "       [0],\n",
              "       [0],\n",
              "       [0],\n",
              "       [0],\n",
              "       [0],\n",
              "       [0],\n",
              "       [0],\n",
              "       [0],\n",
              "       [0],\n",
              "       [0],\n",
              "       [0],\n",
              "       [0],\n",
              "       [0],\n",
              "       [0],\n",
              "       [0],\n",
              "       [0],\n",
              "       [0],\n",
              "       [0],\n",
              "       [0],\n",
              "       [0]])"
            ]
          },
          "metadata": {
            "tags": []
          },
          "execution_count": 33
        }
      ]
    },
    {
      "cell_type": "code",
      "metadata": {
        "id": "pD3r7g3QA3h0",
        "colab_type": "code",
        "colab": {}
      },
      "source": [
        "phi=0\n",
        "for i in trainY:\n",
        "    if(i==1):\n",
        "      phi+=1\n",
        "phi/=len(trainY)"
      ],
      "execution_count": 0,
      "outputs": []
    },
    {
      "cell_type": "code",
      "metadata": {
        "id": "0KRPE_xQBDfw",
        "colab_type": "code",
        "outputId": "282b222c-8ecd-4779-b042-556d9795b29a",
        "colab": {
          "base_uri": "https://localhost:8080/",
          "height": 35
        }
      },
      "source": [
        "phi"
      ],
      "execution_count": 35,
      "outputs": [
        {
          "output_type": "execute_result",
          "data": {
            "text/plain": [
              "0.6987951807228916"
            ]
          },
          "metadata": {
            "tags": []
          },
          "execution_count": 35
        }
      ]
    },
    {
      "cell_type": "code",
      "metadata": {
        "id": "J7ARqP7fHRZa",
        "colab_type": "code",
        "colab": {}
      },
      "source": [
        "def value(xVal,mu0,mu1,phi,sigma):\n",
        "  term1=(2*3.14)**(len(mu0)/2)*np.sqrt(np.linalg.det(sigma))\n",
        "  \n",
        "  term2=np.exp(-0.5* np.dot( (xVal-mu0), np.dot(np.linalg.inv(sigma), (xVal-mu0).T)))\n",
        "  probXY0=1/term1*term2\n",
        "\n",
        "  probY0=1-phi\n",
        "\n",
        "  probFor0=probXY0*probY0\n",
        "\n",
        "  term1=(2*3.14)**(len(mu1)/2)*np.sqrt(np.linalg.det(sigma))\n",
        "  term2=np.exp(-0.5* np.dot( (xVal-mu1), np.dot(np.linalg.inv(sigma), (xVal-mu1).T)))\n",
        "  probXY1=1/term1*term2\n",
        "\n",
        "  probY1=phi\n",
        "\n",
        "  probFor1=probXY1*probY1\n",
        "\n",
        "  if(probFor0>probFor1):\n",
        "    return 0\n",
        "  else:\n",
        "    return 1\n"
      ],
      "execution_count": 0,
      "outputs": []
    },
    {
      "cell_type": "code",
      "metadata": {
        "id": "Gqv8uUhhNXlo",
        "colab_type": "code",
        "colab": {}
      },
      "source": [
        "def accuracy(testX,testY,mu0,mu1,phi,sigma):\n",
        "  it=0\n",
        "  cnt=0\n",
        "  for i in range(len(testY)):\n",
        "    ans= value(testX[i],mu0,mu1,phi,sigma)\n",
        "    if ans==testY[it][0]:\n",
        "      cnt+=1\n",
        "    it+=1\n",
        "  \n",
        "  return cnt/len(testY)*100"
      ],
      "execution_count": 0,
      "outputs": []
    },
    {
      "cell_type": "code",
      "metadata": {
        "id": "E2RWPe0_Pgsw",
        "colab_type": "code",
        "outputId": "b127b7a3-f2e2-44ec-ab28-31224351d841",
        "colab": {
          "base_uri": "https://localhost:8080/",
          "height": 35
        }
      },
      "source": [
        "print(accuracy(testX,testY,mu0,mu1,phi,sigma))"
      ],
      "execution_count": 38,
      "outputs": [
        {
          "output_type": "stream",
          "text": [
            "91.42857142857143\n"
          ],
          "name": "stdout"
        }
      ]
    },
    {
      "cell_type": "code",
      "metadata": {
        "id": "RaukgwKNPuyE",
        "colab_type": "code",
        "colab": {}
      },
      "source": [
        ""
      ],
      "execution_count": 0,
      "outputs": []
    }
  ]
}