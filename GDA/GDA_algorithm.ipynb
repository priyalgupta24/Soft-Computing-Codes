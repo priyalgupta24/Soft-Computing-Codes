{
  "nbformat": 4,
  "nbformat_minor": 0,
  "metadata": {
    "colab": {
      "name": "Copy of GDABetter.ipynb",
      "provenance": []
    },
    "kernelspec": {
      "name": "python3",
      "display_name": "Python 3"
    }
  },
  "cells": [
    {
      "cell_type": "code",
      "metadata": {
        "id": "1tHOeRGsL3cq",
        "colab_type": "code",
        "colab": {}
      },
      "source": [
        "import numpy as np\n",
        "import pandas as pd\n",
        "import random"
      ],
      "execution_count": 0,
      "outputs": []
    },
    {
      "cell_type": "code",
      "metadata": {
        "id": "ga0PNfKwMApX",
        "colab_type": "code",
        "outputId": "4f1b90aa-496e-4e64-fc00-829a044adf79",
        "colab": {
          "base_uri": "https://localhost:8080/",
          "height": 407
        }
      },
      "source": [
        "dt=pd.read_csv('microchipDataset.csv', delimiter = ',')\n",
        "dt"
      ],
      "execution_count": 0,
      "outputs": [
        {
          "output_type": "execute_result",
          "data": {
            "text/html": [
              "<div>\n",
              "<style scoped>\n",
              "    .dataframe tbody tr th:only-of-type {\n",
              "        vertical-align: middle;\n",
              "    }\n",
              "\n",
              "    .dataframe tbody tr th {\n",
              "        vertical-align: top;\n",
              "    }\n",
              "\n",
              "    .dataframe thead th {\n",
              "        text-align: right;\n",
              "    }\n",
              "</style>\n",
              "<table border=\"1\" class=\"dataframe\">\n",
              "  <thead>\n",
              "    <tr style=\"text-align: right;\">\n",
              "      <th></th>\n",
              "      <th>x1</th>\n",
              "      <th>x2</th>\n",
              "      <th>label</th>\n",
              "    </tr>\n",
              "  </thead>\n",
              "  <tbody>\n",
              "    <tr>\n",
              "      <th>0</th>\n",
              "      <td>0.051267</td>\n",
              "      <td>0.699560</td>\n",
              "      <td>1</td>\n",
              "    </tr>\n",
              "    <tr>\n",
              "      <th>1</th>\n",
              "      <td>-0.092742</td>\n",
              "      <td>0.684940</td>\n",
              "      <td>1</td>\n",
              "    </tr>\n",
              "    <tr>\n",
              "      <th>2</th>\n",
              "      <td>-0.213710</td>\n",
              "      <td>0.692250</td>\n",
              "      <td>1</td>\n",
              "    </tr>\n",
              "    <tr>\n",
              "      <th>3</th>\n",
              "      <td>-0.375000</td>\n",
              "      <td>0.502190</td>\n",
              "      <td>1</td>\n",
              "    </tr>\n",
              "    <tr>\n",
              "      <th>4</th>\n",
              "      <td>-0.513250</td>\n",
              "      <td>0.465640</td>\n",
              "      <td>1</td>\n",
              "    </tr>\n",
              "    <tr>\n",
              "      <th>...</th>\n",
              "      <td>...</td>\n",
              "      <td>...</td>\n",
              "      <td>...</td>\n",
              "    </tr>\n",
              "    <tr>\n",
              "      <th>113</th>\n",
              "      <td>-0.720620</td>\n",
              "      <td>0.538740</td>\n",
              "      <td>0</td>\n",
              "    </tr>\n",
              "    <tr>\n",
              "      <th>114</th>\n",
              "      <td>-0.593890</td>\n",
              "      <td>0.494880</td>\n",
              "      <td>0</td>\n",
              "    </tr>\n",
              "    <tr>\n",
              "      <th>115</th>\n",
              "      <td>-0.484450</td>\n",
              "      <td>0.999270</td>\n",
              "      <td>0</td>\n",
              "    </tr>\n",
              "    <tr>\n",
              "      <th>116</th>\n",
              "      <td>-0.006336</td>\n",
              "      <td>0.999270</td>\n",
              "      <td>0</td>\n",
              "    </tr>\n",
              "    <tr>\n",
              "      <th>117</th>\n",
              "      <td>0.632650</td>\n",
              "      <td>-0.030612</td>\n",
              "      <td>0</td>\n",
              "    </tr>\n",
              "  </tbody>\n",
              "</table>\n",
              "<p>118 rows × 3 columns</p>\n",
              "</div>"
            ],
            "text/plain": [
              "           x1        x2  label\n",
              "0    0.051267  0.699560      1\n",
              "1   -0.092742  0.684940      1\n",
              "2   -0.213710  0.692250      1\n",
              "3   -0.375000  0.502190      1\n",
              "4   -0.513250  0.465640      1\n",
              "..        ...       ...    ...\n",
              "113 -0.720620  0.538740      0\n",
              "114 -0.593890  0.494880      0\n",
              "115 -0.484450  0.999270      0\n",
              "116 -0.006336  0.999270      0\n",
              "117  0.632650 -0.030612      0\n",
              "\n",
              "[118 rows x 3 columns]"
            ]
          },
          "metadata": {
            "tags": []
          },
          "execution_count": 4
        }
      ]
    },
    {
      "cell_type": "code",
      "metadata": {
        "id": "7zHaxleFQRJ9",
        "colab_type": "code",
        "colab": {}
      },
      "source": [
        "X=[]\n",
        "Y=[]\n",
        "for i in range(len(dt)):\n",
        "  temp=[]\n",
        "  temp1=[]\n",
        "  temp.append(dt.iloc[i,0])\n",
        "  temp.append(dt.iloc[i,1])\n",
        "  X.append(temp)\n",
        "  temp1.append(dt.iloc[i,2])\n",
        "  Y.append(temp1)"
      ],
      "execution_count": 0,
      "outputs": []
    },
    {
      "cell_type": "code",
      "metadata": {
        "id": "BUm2CnFHRdyv",
        "colab_type": "code",
        "outputId": "7d2fc460-dcd2-4708-f1c5-0b995ed562c6",
        "colab": {
          "base_uri": "https://localhost:8080/",
          "height": 1000
        }
      },
      "source": [
        "X"
      ],
      "execution_count": 77,
      "outputs": [
        {
          "output_type": "execute_result",
          "data": {
            "text/plain": [
              "[[0.05126699999999999, 0.6995600000000001],\n",
              " [-0.09274199999999999, 0.68494],\n",
              " [-0.21370999999999998, 0.69225],\n",
              " [-0.375, 0.5021899999999999],\n",
              " [-0.51325, 0.46563999999999994],\n",
              " [-0.52477, 0.2098],\n",
              " [-0.39804, 0.034357],\n",
              " [-0.30588000000000004, -0.19225],\n",
              " [0.016705, -0.40424],\n",
              " [0.13191, -0.51389],\n",
              " [0.38537, -0.56506],\n",
              " [0.5293800000000001, -0.5212],\n",
              " [0.6388199999999999, -0.24341999999999997],\n",
              " [0.73675, -0.18494000000000002],\n",
              " [0.54666, 0.48757],\n",
              " [0.322, 0.5826],\n",
              " [0.16647, 0.53874],\n",
              " [-0.046659, 0.81652],\n",
              " [-0.17339000000000002, 0.6995600000000001],\n",
              " [-0.47868999999999995, 0.63377],\n",
              " [-0.60541, 0.59722],\n",
              " [-0.62846, 0.33405999999999997],\n",
              " [-0.5938899999999999, 0.005117],\n",
              " [-0.42108, -0.27266],\n",
              " [-0.11578, -0.39693],\n",
              " [0.20104, -0.6016100000000001],\n",
              " [0.46601000000000004, -0.53582],\n",
              " [0.6733899999999999, -0.53582],\n",
              " [-0.13882, 0.54605],\n",
              " [-0.29435, 0.7799699999999999],\n",
              " [-0.26555, 0.96272],\n",
              " [-0.16187, 0.8019],\n",
              " [-0.17339000000000002, 0.6483899999999999],\n",
              " [-0.28283, 0.47295],\n",
              " [-0.36348, 0.31213],\n",
              " [-0.30012, 0.027047],\n",
              " [-0.23675, -0.21418],\n",
              " [-0.06394, -0.18494000000000002],\n",
              " [0.062788, -0.16301],\n",
              " [0.22984000000000002, -0.41155],\n",
              " [0.2932, -0.2288],\n",
              " [0.48328999999999994, -0.18494000000000002],\n",
              " [0.64459, -0.14107999999999998],\n",
              " [0.46025, 0.012426999999999999],\n",
              " [0.6273, 0.15863],\n",
              " [0.5754600000000001, 0.26827],\n",
              " [0.72523, 0.44371000000000005],\n",
              " [0.22408000000000003, 0.52412],\n",
              " [0.44297, 0.67032],\n",
              " [0.322, 0.69225],\n",
              " [0.13767000000000001, 0.57529],\n",
              " [-0.0063364, 0.39985],\n",
              " [-0.09274199999999999, 0.5533600000000001],\n",
              " [-0.20795, 0.35599000000000003],\n",
              " [-0.20795, 0.17325],\n",
              " [-0.43836, 0.21711],\n",
              " [-0.21946999999999997, -0.016812999999999998],\n",
              " [-0.13882, -0.27266],\n",
              " [0.18375999999999998, 0.93348],\n",
              " [0.22408000000000003, 0.7799699999999999],\n",
              " [0.29896, 0.61915],\n",
              " [0.50634, 0.7580399999999999],\n",
              " [0.61578, 0.7288],\n",
              " [0.60426, 0.59722],\n",
              " [0.76555, 0.5021899999999999],\n",
              " [0.92684, 0.3633],\n",
              " [0.82316, 0.27558],\n",
              " [0.96141, 0.085526],\n",
              " [0.9383600000000001, 0.012426999999999999],\n",
              " [0.8634799999999999, -0.082602],\n",
              " [0.89804, -0.20686999999999997],\n",
              " [0.85196, -0.36769],\n",
              " [0.8289200000000001, -0.5212],\n",
              " [0.79435, -0.55775],\n",
              " [0.5927399999999999, -0.7405],\n",
              " [0.51786, -0.5943],\n",
              " [0.46601000000000004, -0.41886],\n",
              " [0.35081, -0.57968],\n",
              " [0.28744000000000003, -0.76974],\n",
              " [0.085829, -0.75512],\n",
              " [0.14919000000000002, -0.57968],\n",
              " [-0.13305999999999998, -0.4481],\n",
              " [-0.40956, -0.41155],\n",
              " [-0.39228, -0.25804],\n",
              " [-0.74366, -0.25804],\n",
              " [-0.69758, 0.041667],\n",
              " [-0.7551800000000001, 0.2902],\n",
              " [-0.69758, 0.68494],\n",
              " [-0.4038, 0.70687],\n",
              " [-0.38076, 0.91886],\n",
              " [-0.50749, 0.9042399999999999],\n",
              " [-0.54781, 0.70687],\n",
              " [0.10311, 0.7799699999999999],\n",
              " [0.057027999999999995, 0.91886],\n",
              " [-0.10425999999999999, 0.9919600000000001],\n",
              " [-0.081221, 1.1089],\n",
              " [0.28744000000000003, 1.087],\n",
              " [0.39689, 0.82383],\n",
              " [0.6388199999999999, 0.8896200000000001],\n",
              " [0.82316, 0.66301],\n",
              " [0.6733899999999999, 0.64108],\n",
              " [1.0709, 0.10015],\n",
              " [-0.046659, -0.57968],\n",
              " [-0.23675, -0.6381600000000001],\n",
              " [-0.15035, -0.36769],\n",
              " [-0.49021000000000003, -0.3019],\n",
              " [-0.46717, -0.13377],\n",
              " [-0.28859, -0.060673000000000005],\n",
              " [-0.6111800000000001, -0.067982],\n",
              " [-0.6630199999999999, -0.21418],\n",
              " [-0.59965, -0.41886],\n",
              " [-0.72638, -0.082602],\n",
              " [-0.8300700000000001, 0.31213],\n",
              " [-0.7206199999999999, 0.53874],\n",
              " [-0.5938899999999999, 0.49488000000000004],\n",
              " [-0.48445, 0.9992700000000001],\n",
              " [-0.0063364, 0.9992700000000001],\n",
              " [0.63265, -0.030612]]"
            ]
          },
          "metadata": {
            "tags": []
          },
          "execution_count": 77
        }
      ]
    },
    {
      "cell_type": "code",
      "metadata": {
        "id": "ocsNchwRrgPW",
        "colab_type": "code",
        "outputId": "3a2216a6-9e12-4399-e8a4-b609e66c94b7",
        "colab": {
          "base_uri": "https://localhost:8080/",
          "height": 1000
        }
      },
      "source": [
        "Y"
      ],
      "execution_count": 0,
      "outputs": [
        {
          "output_type": "execute_result",
          "data": {
            "text/plain": [
              "[[1],\n",
              " [1],\n",
              " [1],\n",
              " [1],\n",
              " [1],\n",
              " [1],\n",
              " [1],\n",
              " [1],\n",
              " [1],\n",
              " [1],\n",
              " [1],\n",
              " [1],\n",
              " [1],\n",
              " [1],\n",
              " [1],\n",
              " [1],\n",
              " [1],\n",
              " [1],\n",
              " [1],\n",
              " [1],\n",
              " [1],\n",
              " [1],\n",
              " [1],\n",
              " [1],\n",
              " [1],\n",
              " [1],\n",
              " [1],\n",
              " [1],\n",
              " [1],\n",
              " [1],\n",
              " [1],\n",
              " [1],\n",
              " [1],\n",
              " [1],\n",
              " [1],\n",
              " [1],\n",
              " [1],\n",
              " [1],\n",
              " [1],\n",
              " [1],\n",
              " [1],\n",
              " [1],\n",
              " [1],\n",
              " [1],\n",
              " [1],\n",
              " [1],\n",
              " [1],\n",
              " [1],\n",
              " [1],\n",
              " [1],\n",
              " [1],\n",
              " [1],\n",
              " [1],\n",
              " [1],\n",
              " [1],\n",
              " [1],\n",
              " [1],\n",
              " [1],\n",
              " [0],\n",
              " [0],\n",
              " [0],\n",
              " [0],\n",
              " [0],\n",
              " [0],\n",
              " [0],\n",
              " [0],\n",
              " [0],\n",
              " [0],\n",
              " [0],\n",
              " [0],\n",
              " [0],\n",
              " [0],\n",
              " [0],\n",
              " [0],\n",
              " [0],\n",
              " [0],\n",
              " [0],\n",
              " [0],\n",
              " [0],\n",
              " [0],\n",
              " [0],\n",
              " [0],\n",
              " [0],\n",
              " [0],\n",
              " [0],\n",
              " [0],\n",
              " [0],\n",
              " [0],\n",
              " [0],\n",
              " [0],\n",
              " [0],\n",
              " [0],\n",
              " [0],\n",
              " [0],\n",
              " [0],\n",
              " [0],\n",
              " [0],\n",
              " [0],\n",
              " [0],\n",
              " [0],\n",
              " [0],\n",
              " [0],\n",
              " [0],\n",
              " [0],\n",
              " [0],\n",
              " [0],\n",
              " [0],\n",
              " [0],\n",
              " [0],\n",
              " [0],\n",
              " [0],\n",
              " [0],\n",
              " [0],\n",
              " [0],\n",
              " [0],\n",
              " [0],\n",
              " [0],\n",
              " [0]]"
            ]
          },
          "metadata": {
            "tags": []
          },
          "execution_count": 7
        }
      ]
    },
    {
      "cell_type": "code",
      "metadata": {
        "id": "3MKWEU9sYfST",
        "colab_type": "code",
        "colab": {}
      },
      "source": [
        "trainX=[]\n",
        "trainY=[]\n",
        "testX=[]\n",
        "testY=[]\n",
        "trainLength=int(0.7*len(dt))\n",
        "trainIndex=random.sample(range(0,len(dt)),trainLength)\n",
        "for i in range(len(dt)):\n",
        "  if(i in trainIndex):\n",
        "    trainX.append(X[i])\n",
        "    trainY.append(Y[i])\n",
        "  else:\n",
        "    testX.append(X[i])\n",
        "    testY.append(Y[i])"
      ],
      "execution_count": 0,
      "outputs": []
    },
    {
      "cell_type": "code",
      "metadata": {
        "id": "aDuHZk_DZB9_",
        "colab_type": "code",
        "colab": {}
      },
      "source": [
        "trainX = np.asarray(trainX)\n",
        "trainY = np.asarray(trainY)\n",
        "testX = np.asarray(testX)\n",
        "testY = np.asarray(testY)"
      ],
      "execution_count": 0,
      "outputs": []
    },
    {
      "cell_type": "code",
      "metadata": {
        "id": "EdeIM6zibLJh",
        "colab_type": "code",
        "colab": {}
      },
      "source": [
        "cnt=0\n",
        "mu0=np.zeros((1,trainX.shape[1]))\n",
        "for i in range(len(trainX)):\n",
        "  if(trainY[i]==0):\n",
        "    mu0[0,:]+=trainX[i]\n",
        "    cnt+=1\n",
        "mu0=mu0/(cnt)\n",
        "\n",
        "cnt=0\n",
        "mu1=np.zeros((1,trainX.shape[1]))\n",
        "for i in range(len(trainX)):\n",
        "  if(trainY[i]==1):\n",
        "    mu1[0,:]+=trainX[i]\n",
        "    cnt+=1\n",
        "mu1=mu1/(cnt)\n",
        "\n",
        "sigma=np.zeros((trainX.shape[0],trainX.shape[0]))\n",
        "temp=np.ndarray(shape=trainX.shape)\n",
        "for i in range(len(trainY)):\n",
        "  if(trainY[i]==1):\n",
        "    temp[i]=np.subtract(trainX[i],mu1)\n",
        "  else:\n",
        "    temp[i]=np.subtract(trainX[i],mu0)\n",
        "sigma=np.dot(temp.T,temp)/len(trainY)\n"
      ],
      "execution_count": 0,
      "outputs": []
    },
    {
      "cell_type": "code",
      "metadata": {
        "id": "f1tm4rdkbSDa",
        "colab_type": "code",
        "outputId": "f6708481-aeb8-457b-c5d1-61ae2f1798cb",
        "colab": {
          "base_uri": "https://localhost:8080/",
          "height": 35
        }
      },
      "source": [
        "mu0"
      ],
      "execution_count": 70,
      "outputs": [
        {
          "output_type": "execute_result",
          "data": {
            "text/plain": [
              "array([[0.01928829, 0.20433223]])"
            ]
          },
          "metadata": {
            "tags": []
          },
          "execution_count": 70
        }
      ]
    },
    {
      "cell_type": "code",
      "metadata": {
        "id": "tn6Wkf4bbVbM",
        "colab_type": "code",
        "outputId": "b340bb6c-e0c1-43ea-8ec3-f0dc8be9faa5",
        "colab": {
          "base_uri": "https://localhost:8080/",
          "height": 35
        }
      },
      "source": [
        "mu1"
      ],
      "execution_count": 71,
      "outputs": [
        {
          "output_type": "execute_result",
          "data": {
            "text/plain": [
              "array([[0.0420779 , 0.21344955]])"
            ]
          },
          "metadata": {
            "tags": []
          },
          "execution_count": 71
        }
      ]
    },
    {
      "cell_type": "code",
      "metadata": {
        "id": "pD3r7g3QA3h0",
        "colab_type": "code",
        "colab": {}
      },
      "source": [
        "phi=0\n",
        "for i in trainY:\n",
        "    if(i==1):\n",
        "      phi+=1\n",
        "phi/=len(trainY)"
      ],
      "execution_count": 0,
      "outputs": []
    },
    {
      "cell_type": "code",
      "metadata": {
        "id": "0KRPE_xQBDfw",
        "colab_type": "code",
        "outputId": "28c6dac1-1e4d-437f-b96d-596e4be5cf50",
        "colab": {
          "base_uri": "https://localhost:8080/",
          "height": 35
        }
      },
      "source": [
        "phi"
      ],
      "execution_count": 73,
      "outputs": [
        {
          "output_type": "execute_result",
          "data": {
            "text/plain": [
              "0.5121951219512195"
            ]
          },
          "metadata": {
            "tags": []
          },
          "execution_count": 73
        }
      ]
    },
    {
      "cell_type": "code",
      "metadata": {
        "id": "J7ARqP7fHRZa",
        "colab_type": "code",
        "colab": {}
      },
      "source": [
        "def value(xVal,mu0,mu1,phi,sigma):\n",
        "  term1=(2*3.14)**(len(mu0)/2)*np.sqrt(np.linalg.det(sigma))\n",
        "  term2=np.exp(-0.5* np.dot( (xVal-mu0), np.dot(np.linalg.inv(sigma), (xVal-mu0).T)))\n",
        "  probXY0=1/term1*term2\n",
        "\n",
        "  probY0=1-phi\n",
        "\n",
        "  probFor0=probXY0*probY0\n",
        "\n",
        "  term1=(2*3.14)**(len(mu1)/2)*np.sqrt(np.linalg.det(sigma))\n",
        "  term2=np.exp(-0.5* np.dot( (xVal-mu1), np.dot(np.linalg.inv(sigma), (xVal-mu1).T)))\n",
        "  probXY1=1/term1*term2\n",
        "\n",
        "  probY1=phi\n",
        "\n",
        "  probFor1=probXY1*probY1\n",
        "\n",
        "  if(probFor0>probFor1):\n",
        "    return 0\n",
        "  else:\n",
        "    return 1\n"
      ],
      "execution_count": 0,
      "outputs": []
    },
    {
      "cell_type": "code",
      "metadata": {
        "id": "Gqv8uUhhNXlo",
        "colab_type": "code",
        "colab": {}
      },
      "source": [
        "def accuracy(testX,testY,mu0,mu1,phi,sigma):\n",
        "  it=0\n",
        "  cnt=0\n",
        "  for i in range(len(testY)):\n",
        "    ans= value(testX[i],mu0,mu1,phi,sigma)\n",
        "    if ans==testY[it][0]:\n",
        "      cnt+=1\n",
        "    it+=1\n",
        "  \n",
        "  return cnt/len(testY)*100"
      ],
      "execution_count": 0,
      "outputs": []
    },
    {
      "cell_type": "code",
      "metadata": {
        "id": "E2RWPe0_Pgsw",
        "colab_type": "code",
        "outputId": "d56ef6c1-f5d2-40df-9e5f-dc2bacea2fb0",
        "colab": {
          "base_uri": "https://localhost:8080/",
          "height": 35
        }
      },
      "source": [
        "print(accuracy(testX,testY,mu0,mu1,phi,sigma))"
      ],
      "execution_count": 76,
      "outputs": [
        {
          "output_type": "stream",
          "text": [
            "50.0\n"
          ],
          "name": "stdout"
        }
      ]
    },
    {
      "cell_type": "code",
      "metadata": {
        "id": "RaukgwKNPuyE",
        "colab_type": "code",
        "colab": {}
      },
      "source": [
        ""
      ],
      "execution_count": 0,
      "outputs": []
    }
  ]
}