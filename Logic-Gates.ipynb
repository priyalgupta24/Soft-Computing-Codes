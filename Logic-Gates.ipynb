{
  "nbformat": 4,
  "nbformat_minor": 0,
  "metadata": {
    "colab": {
      "name": "IHM2017004_SOC2020_10.ipynb",
      "provenance": []
    },
    "kernelspec": {
      "name": "python3",
      "display_name": "Python 3"
    }
  },
  "cells": [
    {
      "cell_type": "code",
      "metadata": {
        "id": "OCyTbrOu6Cel",
        "colab_type": "code",
        "colab": {}
      },
      "source": [
        "import numpy as np"
      ],
      "execution_count": 0,
      "outputs": []
    },
    {
      "cell_type": "code",
      "metadata": {
        "id": "7c0caWU_6YJB",
        "colab_type": "code",
        "colab": {}
      },
      "source": [
        "def optimizeWeights(dataSet,y, alpha, epochs, weightMatrix):\n",
        "  for num in range(epochs):\n",
        "    cnt=0\n",
        "    error=0\n",
        "    for dt in dataSet:\n",
        "      activation=0\n",
        "      predictedValue=0\n",
        "      for i in range(len(dt)):\n",
        "        activation+=dt[i]*weightMatrix[i]\n",
        "      if activation>=0:\n",
        "        predictedValue=1\n",
        "      else:\n",
        "        predictedValue=0\n",
        "      error=y[cnt]-predictedValue\n",
        "\n",
        "      for i in range(len(dt)):\n",
        "        delta=alpha*error*dt[i]\n",
        "        weightMatrix[i]+=delta\n",
        "      cnt+=1\n",
        "  return weightMatrix \n",
        "\n"
      ],
      "execution_count": 0,
      "outputs": []
    },
    {
      "cell_type": "code",
      "metadata": {
        "id": "T-yZePZxFVGo",
        "colab_type": "code",
        "colab": {}
      },
      "source": [
        "alpha=0.1\n",
        "epochs=100"
      ],
      "execution_count": 0,
      "outputs": []
    },
    {
      "cell_type": "markdown",
      "metadata": {
        "id": "a1TfYi3MEKs_",
        "colab_type": "text"
      },
      "source": [
        "AND Gate"
      ]
    },
    {
      "cell_type": "code",
      "metadata": {
        "id": "tkI2rUNqnftp",
        "colab_type": "code",
        "colab": {}
      },
      "source": [
        "dataAND=[[0,0,1],[0,1,1],[1,0,1],[1,1,1]]\n",
        "yAND=[0,0,0,1]\n",
        "weightMatrix=[0,0,0]\n",
        "finalWeightMatrixAND=optimizeWeights(dataAND,yAND,alpha,epochs,weightMatrix)"
      ],
      "execution_count": 0,
      "outputs": []
    },
    {
      "cell_type": "markdown",
      "metadata": {
        "id": "ID0xFMYeX5BP",
        "colab_type": "text"
      },
      "source": [
        "OR Gate"
      ]
    },
    {
      "cell_type": "code",
      "metadata": {
        "id": "LvBA6L9bEx1m",
        "colab_type": "code",
        "colab": {}
      },
      "source": [
        "dataOR=[[0,0,1],[0,1,1],[1,0,1],[1,1,1]]\n",
        "yOR=[0,1,1,1]\n",
        "weightMatrix=[0,0,0]\n",
        "finalWeightMatrixOR=optimizeWeights(dataOR,yOR,alpha,epochs,weightMatrix)"
      ],
      "execution_count": 0,
      "outputs": []
    },
    {
      "cell_type": "markdown",
      "metadata": {
        "id": "1hXBnHFvZWKu",
        "colab_type": "text"
      },
      "source": [
        "NAND Gate"
      ]
    },
    {
      "cell_type": "code",
      "metadata": {
        "id": "rW24sAkiZJCq",
        "colab_type": "code",
        "colab": {}
      },
      "source": [
        "dataNAND=[[0,0,1],[0,1,1],[1,0,1],[1,1,1]]\n",
        "yNAND=[1,1,1,0]\n",
        "weightMatrix=[0.2,-1,1]\n",
        "finalWeightMatrixNAND=optimizeWeights(dataNAND,yNAND,alpha,epochs,weightMatrix)"
      ],
      "execution_count": 0,
      "outputs": []
    },
    {
      "cell_type": "markdown",
      "metadata": {
        "id": "Ve13zw2xY3sa",
        "colab_type": "text"
      },
      "source": [
        "NOR Gate"
      ]
    },
    {
      "cell_type": "code",
      "metadata": {
        "id": "G1Sx6XACYP1o",
        "colab_type": "code",
        "colab": {}
      },
      "source": [
        "dataNOR=[[0,0,1],[0,1,1],[1,0,1],[1,1,1]]\n",
        "yNOR=[1,0,0,0]\n",
        "weightMatrix=[0,0,0]\n",
        "finalWeightMatrixNOR=optimizeWeights(dataNOR,yNOR,alpha,epochs,weightMatrix)"
      ],
      "execution_count": 0,
      "outputs": []
    },
    {
      "cell_type": "code",
      "metadata": {
        "id": "pwP3XjqGbLS4",
        "colab_type": "code",
        "colab": {}
      },
      "source": [
        "def accuracy(data,weightMatrix,y):\n",
        "  count=0\n",
        "  j=0\n",
        "  for dt in data:\n",
        "    value=0\n",
        "    for i in range(len(dt)):\n",
        "      value+=dt[i]*weightMatrix[i]  \n",
        "    if(value>=0):\n",
        "      predict=1\n",
        "    else:\n",
        "      predict=0\n",
        "    print(dt[0],dt[1],predict)\n",
        "    if(predict==y[j]):\n",
        "      count+=1\n",
        "    j+=1\n",
        "  return (count/4)*100\n"
      ],
      "execution_count": 0,
      "outputs": []
    },
    {
      "cell_type": "code",
      "metadata": {
        "id": "jHWgbhx2cig7",
        "colab_type": "code",
        "outputId": "b8bc4c9b-ab69-4451-e3a1-034423214a73",
        "colab": {
          "base_uri": "https://localhost:8080/",
          "height": 108
        }
      },
      "source": [
        "accuracyAND = accuracy(dataAND,finalWeightMatrixAND,yAND)\n",
        "print('Accuracy of AND Gate:-',accuracyAND)"
      ],
      "execution_count": 0,
      "outputs": [
        {
          "output_type": "stream",
          "text": [
            "0 0 0\n",
            "0 1 0\n",
            "1 0 0\n",
            "1 1 1\n",
            "Accuracy of AND Gate:- 100.0\n"
          ],
          "name": "stdout"
        }
      ]
    },
    {
      "cell_type": "code",
      "metadata": {
        "id": "0bvWHn5ktNPV",
        "colab_type": "code",
        "outputId": "beb2d50e-a07b-48e3-eade-e2a06f790078",
        "colab": {
          "base_uri": "https://localhost:8080/",
          "height": 108
        }
      },
      "source": [
        "accuracyOR = accuracy(dataOR,finalWeightMatrixOR,yOR)\n",
        "print('Accuracy of OR Gate:-',accuracyOR)"
      ],
      "execution_count": 0,
      "outputs": [
        {
          "output_type": "stream",
          "text": [
            "0 0 0\n",
            "0 1 1\n",
            "1 0 1\n",
            "1 1 1\n",
            "Accuracy of OR Gate:- 100.0\n"
          ],
          "name": "stdout"
        }
      ]
    },
    {
      "cell_type": "code",
      "metadata": {
        "id": "BJe6jBG3u5nP",
        "colab_type": "code",
        "outputId": "ca502364-ff04-4d45-c61b-d3d655461ea6",
        "colab": {
          "base_uri": "https://localhost:8080/",
          "height": 108
        }
      },
      "source": [
        "accuracyNAND = accuracy(dataNAND,finalWeightMatrixNAND,yNAND)\n",
        "print('Accuracy of NAND Gate:-',accuracyNAND)"
      ],
      "execution_count": 0,
      "outputs": [
        {
          "output_type": "stream",
          "text": [
            "0 0 1\n",
            "0 1 1\n",
            "1 0 1\n",
            "1 1 0\n",
            "Accuracy of NAND Gate:- 100.0\n"
          ],
          "name": "stdout"
        }
      ]
    },
    {
      "cell_type": "code",
      "metadata": {
        "id": "QXVFNStDuWfe",
        "colab_type": "code",
        "outputId": "4d41e219-9663-42a4-eabb-dfed08810399",
        "colab": {
          "base_uri": "https://localhost:8080/",
          "height": 108
        }
      },
      "source": [
        "accuracyNOR = accuracy(dataNOR,finalWeightMatrixNOR,yNOR)\n",
        "print('Accuracy of NOR Gate:-',accuracyNOR)"
      ],
      "execution_count": 0,
      "outputs": [
        {
          "output_type": "stream",
          "text": [
            "0 0 1\n",
            "0 1 0\n",
            "1 0 0\n",
            "1 1 0\n",
            "Accuracy of NOR Gate:- 100.0\n"
          ],
          "name": "stdout"
        }
      ]
    },
    {
      "cell_type": "code",
      "metadata": {
        "id": "BbcdZZDyhZdt",
        "colab_type": "code",
        "colab": {}
      },
      "source": [
        "import matplotlib.pyplot as plt"
      ],
      "execution_count": 0,
      "outputs": []
    },
    {
      "cell_type": "code",
      "metadata": {
        "id": "qxpJO2pXhHqg",
        "colab_type": "code",
        "outputId": "2a6f374b-16f7-4edd-8290-34a24fcb8bc9",
        "colab": {
          "base_uri": "https://localhost:8080/",
          "height": 1000
        }
      },
      "source": [
        "x = np.linspace(-1, 2, 40)\n",
        "plt.plot(x,(x*finalWeightMatrixAND[0]+finalWeightMatrixAND[2])/(-1*finalWeightMatrixAND[1]))\n",
        "dataAND=np.asarray(dataAND)\n",
        "for i in range(len(yAND)):\n",
        "  if(yAND[i]==0): \n",
        "    plt.scatter(dataAND[i,0],dataAND[i,1],color='green')\n",
        "  else:\n",
        "    plt.scatter(dataAND[i,0],dataAND[i,1],color='red')\n",
        "plt.title(\"AND Gate\")\n",
        "plt.show()\n",
        "\n",
        "x = np.linspace(-1, 2, 40)\n",
        "plt.plot(x,(x*finalWeightMatrixOR[0]+finalWeightMatrixOR[2])/(-1*finalWeightMatrixOR[1]))\n",
        "dataOR=np.asarray(dataOR)\n",
        "for i in range(len(yOR)):\n",
        "  if(yOR[i]==0): \n",
        "    plt.scatter(dataOR[i,0],dataOR[i,1],color='green')\n",
        "  else:\n",
        "    plt.scatter(dataOR[i,0],dataOR[i,1],color='red')\n",
        "plt.title(\"OR Gate\")\n",
        "plt.show()\n",
        "\n",
        "x = np.linspace(-1, 2, 40)\n",
        "plt.plot(x,(x*finalWeightMatrixNAND[0]+finalWeightMatrixNAND[2])/(-1*finalWeightMatrixNAND[1]))\n",
        "dataNAND=np.asarray(dataNAND)\n",
        "for i in range(len(yNAND)):\n",
        "  if(yNAND[i]==0): \n",
        "    plt.scatter(dataNAND[i,0],dataNAND[i,1],color='green')\n",
        "  else:\n",
        "    plt.scatter(dataNAND[i,0],dataNAND[i,1],color='red')\n",
        "plt.title(\"NAND Gate\")\n",
        "plt.show()\n",
        "\n",
        "x = np.linspace(-1, 2, 40)\n",
        "plt.plot(x,(x*finalWeightMatrixNOR[0]+finalWeightMatrixNOR[2])/(-1*finalWeightMatrixNOR[1]))\n",
        "dataNOR=np.asarray(dataNOR)\n",
        "for i in range(len(yNOR)):\n",
        "  if(yNOR[i]==0): \n",
        "    plt.scatter(dataNOR[i,0],dataNOR[i,1],color='green')\n",
        "  else:\n",
        "    plt.scatter(dataNOR[i,0],dataNOR[i,1],color='red')\n",
        "plt.title(\"NOR Gate\")\n",
        "plt.show()"
      ],
      "execution_count": 0,
      "outputs": [
        {
          "output_type": "display_data",
          "data": {
            "image/png": "[encoded data removed]",
            "text/plain": [
              "<Figure size 432x288 with 1 Axes>"
            ]
          },
          "metadata": {
            "tags": [],
            "needs_background": "light"
          }
        },
        {
          "output_type": "display_data",
          "data": {
            "image/png": "[encoded data removed]",
            "text/plain": [
              "<Figure size 432x288 with 1 Axes>"
            ]
          },
          "metadata": {
            "tags": [],
            "needs_background": "light"
          }
        },
        {
          "output_type": "display_data",
          "data": {
            "image/png": "[encoded data removed]",
            "text/plain": [
              "<Figure size 432x288 with 1 Axes>"
            ]
          },
          "metadata": {
            "tags": [],
            "needs_background": "light"
          }
        },
        {
          "output_type": "display_data",
          "data": {
            "image/png": "[encoded data removed]",
            "text/plain": [
              "<Figure size 432x288 with 1 Axes>"
            ]
          },
          "metadata": {
            "tags": [],
            "needs_background": "light"
          }
        }
      ]
    },
    {
      "cell_type": "markdown",
      "metadata": {
        "id": "1sVGSM8EsnC5",
        "colab_type": "text"
      },
      "source": [
        "Here the **green dots** represent the output value **0** and the **red dots** represent the ouput value **1**.\n"
      ]
    },
    {
      "cell_type": "markdown",
      "metadata": {
        "id": "mSjAIcLLuWxx",
        "colab_type": "text"
      },
      "source": [
        "Also as we are using **binary step funtion** as the activation function,\n",
        "so for AND and OR gates if the point lies on or above the line, the output value is 1, otherwise it is 0.\n",
        "For NAND and NOR gates if the point lies above the line, the value is 0, otherwise it is 1"
      ]
    },
    {
      "cell_type": "markdown",
      "metadata": {
        "id": "rbZoKB9RuqUo",
        "colab_type": "text"
      },
      "source": [
        "So, from these graphs it can be verified easily that output for AND, OR, NAND and NOR gates can be predicted easily using a perceptron"
      ]
    },
    {
      "cell_type": "markdown",
      "metadata": {
        "id": "0K7mrqINPfpV",
        "colab_type": "text"
      },
      "source": [
        "Also the accuracy function tested for each Gate gives accuracy as 100%. So it can be concluded that the perceptron is working fine.\n",
        "\n",
        "\n"
      ]
    },
    {
      "cell_type": "code",
      "metadata": {
        "id": "rC5du8aTuFa_",
        "colab_type": "code",
        "colab": {}
      },
      "source": [
        ""
      ],
      "execution_count": 0,
      "outputs": []
    }
  ]
}